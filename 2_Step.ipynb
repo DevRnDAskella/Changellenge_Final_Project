{
 "cells": [
  {
   "metadata": {},
   "cell_type": "markdown",
   "source": "## Imports and Defines",
   "id": "e2e5b16734e97ecd"
  },
  {
   "metadata": {
    "ExecuteTime": {
     "end_time": "2024-05-09T13:14:16.206312Z",
     "start_time": "2024-05-09T13:14:16.201825Z"
    }
   },
   "cell_type": "code",
   "source": [
    "import pandas as pd\n",
    "import seaborn as sns\n",
    "import matplotlib.pyplot as plt\n",
    "import warnings\n",
    "\n",
    "warnings.filterwarnings('ignore')"
   ],
   "id": "initial_id",
   "outputs": [],
   "execution_count": 1
  },
  {
   "metadata": {
    "ExecuteTime": {
     "end_time": "2024-05-09T13:14:17.712725Z",
     "start_time": "2024-05-09T13:14:16.207322Z"
    }
   },
   "cell_type": "code",
   "source": [
    "teams = pd.read_csv('./src/teams.csv')\n",
    "players = pd.read_csv('./src/players.csv')\n",
    "matches = pd.read_csv('./src/matches.csv')"
   ],
   "id": "38791960345c2d07",
   "outputs": [],
   "execution_count": 2
  },
  {
   "metadata": {},
   "cell_type": "markdown",
   "source": "## Players Dataset",
   "id": "351c5d8a69d901bc"
  },
  {
   "metadata": {},
   "cell_type": "markdown",
   "source": "Посмотрим на данные в таблице Players",
   "id": "e1c3cc41a323862f"
  },
  {
   "metadata": {
    "ExecuteTime": {
     "end_time": "2024-05-09T13:14:17.739895Z",
     "start_time": "2024-05-09T13:14:17.715246Z"
    }
   },
   "cell_type": "code",
   "source": "players.head(4)",
   "id": "9d759bd6dd1bcbcf",
   "outputs": [
    {
     "data": {
      "text/plain": [
       "   player_api_id         player_name             birthday  \\\n",
       "0         505942  Aaron Appindangoye  1992-02-29 00:00:00   \n",
       "1         505942  Aaron Appindangoye  1992-02-29 00:00:00   \n",
       "2         505942  Aaron Appindangoye  1992-02-29 00:00:00   \n",
       "3         505942  Aaron Appindangoye  1992-02-29 00:00:00   \n",
       "\n",
       "                  date  overall_rating  potential preferred_foot  \\\n",
       "0  2016-02-18 00:00:00            67.0       71.0          right   \n",
       "1  2015-11-19 00:00:00            67.0       71.0          right   \n",
       "2  2015-09-21 00:00:00            62.0       66.0          right   \n",
       "3  2015-03-20 00:00:00            61.0       65.0          right   \n",
       "\n",
       "  attacking_work_rate defensive_work_rate  crossing  ...  vision  penalties  \\\n",
       "0              medium              medium      49.0  ...    54.0       48.0   \n",
       "1              medium              medium      49.0  ...    54.0       48.0   \n",
       "2              medium              medium      49.0  ...    54.0       48.0   \n",
       "3              medium              medium      48.0  ...    53.0       47.0   \n",
       "\n",
       "   marking  standing_tackle  sliding_tackle  gk_diving  gk_handling  \\\n",
       "0     65.0             69.0            69.0        6.0         11.0   \n",
       "1     65.0             69.0            69.0        6.0         11.0   \n",
       "2     65.0             66.0            69.0        6.0         11.0   \n",
       "3     62.0             63.0            66.0        5.0         10.0   \n",
       "\n",
       "   gk_kicking  gk_positioning  gk_reflexes  \n",
       "0        10.0             8.0          8.0  \n",
       "1        10.0             8.0          8.0  \n",
       "2        10.0             8.0          8.0  \n",
       "3         9.0             7.0          7.0  \n",
       "\n",
       "[4 rows x 42 columns]"
      ],
      "text/html": [
       "<div>\n",
       "<style scoped>\n",
       "    .dataframe tbody tr th:only-of-type {\n",
       "        vertical-align: middle;\n",
       "    }\n",
       "\n",
       "    .dataframe tbody tr th {\n",
       "        vertical-align: top;\n",
       "    }\n",
       "\n",
       "    .dataframe thead th {\n",
       "        text-align: right;\n",
       "    }\n",
       "</style>\n",
       "<table border=\"1\" class=\"dataframe\">\n",
       "  <thead>\n",
       "    <tr style=\"text-align: right;\">\n",
       "      <th></th>\n",
       "      <th>player_api_id</th>\n",
       "      <th>player_name</th>\n",
       "      <th>birthday</th>\n",
       "      <th>date</th>\n",
       "      <th>overall_rating</th>\n",
       "      <th>potential</th>\n",
       "      <th>preferred_foot</th>\n",
       "      <th>attacking_work_rate</th>\n",
       "      <th>defensive_work_rate</th>\n",
       "      <th>crossing</th>\n",
       "      <th>...</th>\n",
       "      <th>vision</th>\n",
       "      <th>penalties</th>\n",
       "      <th>marking</th>\n",
       "      <th>standing_tackle</th>\n",
       "      <th>sliding_tackle</th>\n",
       "      <th>gk_diving</th>\n",
       "      <th>gk_handling</th>\n",
       "      <th>gk_kicking</th>\n",
       "      <th>gk_positioning</th>\n",
       "      <th>gk_reflexes</th>\n",
       "    </tr>\n",
       "  </thead>\n",
       "  <tbody>\n",
       "    <tr>\n",
       "      <th>0</th>\n",
       "      <td>505942</td>\n",
       "      <td>Aaron Appindangoye</td>\n",
       "      <td>1992-02-29 00:00:00</td>\n",
       "      <td>2016-02-18 00:00:00</td>\n",
       "      <td>67.0</td>\n",
       "      <td>71.0</td>\n",
       "      <td>right</td>\n",
       "      <td>medium</td>\n",
       "      <td>medium</td>\n",
       "      <td>49.0</td>\n",
       "      <td>...</td>\n",
       "      <td>54.0</td>\n",
       "      <td>48.0</td>\n",
       "      <td>65.0</td>\n",
       "      <td>69.0</td>\n",
       "      <td>69.0</td>\n",
       "      <td>6.0</td>\n",
       "      <td>11.0</td>\n",
       "      <td>10.0</td>\n",
       "      <td>8.0</td>\n",
       "      <td>8.0</td>\n",
       "    </tr>\n",
       "    <tr>\n",
       "      <th>1</th>\n",
       "      <td>505942</td>\n",
       "      <td>Aaron Appindangoye</td>\n",
       "      <td>1992-02-29 00:00:00</td>\n",
       "      <td>2015-11-19 00:00:00</td>\n",
       "      <td>67.0</td>\n",
       "      <td>71.0</td>\n",
       "      <td>right</td>\n",
       "      <td>medium</td>\n",
       "      <td>medium</td>\n",
       "      <td>49.0</td>\n",
       "      <td>...</td>\n",
       "      <td>54.0</td>\n",
       "      <td>48.0</td>\n",
       "      <td>65.0</td>\n",
       "      <td>69.0</td>\n",
       "      <td>69.0</td>\n",
       "      <td>6.0</td>\n",
       "      <td>11.0</td>\n",
       "      <td>10.0</td>\n",
       "      <td>8.0</td>\n",
       "      <td>8.0</td>\n",
       "    </tr>\n",
       "    <tr>\n",
       "      <th>2</th>\n",
       "      <td>505942</td>\n",
       "      <td>Aaron Appindangoye</td>\n",
       "      <td>1992-02-29 00:00:00</td>\n",
       "      <td>2015-09-21 00:00:00</td>\n",
       "      <td>62.0</td>\n",
       "      <td>66.0</td>\n",
       "      <td>right</td>\n",
       "      <td>medium</td>\n",
       "      <td>medium</td>\n",
       "      <td>49.0</td>\n",
       "      <td>...</td>\n",
       "      <td>54.0</td>\n",
       "      <td>48.0</td>\n",
       "      <td>65.0</td>\n",
       "      <td>66.0</td>\n",
       "      <td>69.0</td>\n",
       "      <td>6.0</td>\n",
       "      <td>11.0</td>\n",
       "      <td>10.0</td>\n",
       "      <td>8.0</td>\n",
       "      <td>8.0</td>\n",
       "    </tr>\n",
       "    <tr>\n",
       "      <th>3</th>\n",
       "      <td>505942</td>\n",
       "      <td>Aaron Appindangoye</td>\n",
       "      <td>1992-02-29 00:00:00</td>\n",
       "      <td>2015-03-20 00:00:00</td>\n",
       "      <td>61.0</td>\n",
       "      <td>65.0</td>\n",
       "      <td>right</td>\n",
       "      <td>medium</td>\n",
       "      <td>medium</td>\n",
       "      <td>48.0</td>\n",
       "      <td>...</td>\n",
       "      <td>53.0</td>\n",
       "      <td>47.0</td>\n",
       "      <td>62.0</td>\n",
       "      <td>63.0</td>\n",
       "      <td>66.0</td>\n",
       "      <td>5.0</td>\n",
       "      <td>10.0</td>\n",
       "      <td>9.0</td>\n",
       "      <td>7.0</td>\n",
       "      <td>7.0</td>\n",
       "    </tr>\n",
       "  </tbody>\n",
       "</table>\n",
       "<p>4 rows × 42 columns</p>\n",
       "</div>"
      ]
     },
     "execution_count": 3,
     "metadata": {},
     "output_type": "execute_result"
    }
   ],
   "execution_count": 3
  },
  {
   "metadata": {
    "ExecuteTime": {
     "end_time": "2024-05-09T13:14:17.818453Z",
     "start_time": "2024-05-09T13:14:17.740902Z"
    }
   },
   "cell_type": "code",
   "source": "players.info()",
   "id": "32d36b3897a8d4aa",
   "outputs": [
    {
     "name": "stdout",
     "output_type": "stream",
     "text": [
      "<class 'pandas.core.frame.DataFrame'>\n",
      "RangeIndex: 183978 entries, 0 to 183977\n",
      "Data columns (total 42 columns):\n",
      " #   Column               Non-Null Count   Dtype  \n",
      "---  ------               --------------   -----  \n",
      " 0   player_api_id        183978 non-null  int64  \n",
      " 1   player_name          183978 non-null  object \n",
      " 2   birthday             183978 non-null  object \n",
      " 3   date                 183978 non-null  object \n",
      " 4   overall_rating       183142 non-null  float64\n",
      " 5   potential            183142 non-null  float64\n",
      " 6   preferred_foot       183142 non-null  object \n",
      " 7   attacking_work_rate  177109 non-null  object \n",
      " 8   defensive_work_rate  183142 non-null  object \n",
      " 9   crossing             183142 non-null  float64\n",
      " 10  finishing            183142 non-null  float64\n",
      " 11  heading_accuracy     183142 non-null  float64\n",
      " 12  short_passing        183142 non-null  float64\n",
      " 13  volleys              181265 non-null  float64\n",
      " 14  dribbling            183142 non-null  float64\n",
      " 15  curve                181265 non-null  float64\n",
      " 16  free_kick_accuracy   183142 non-null  float64\n",
      " 17  long_passing         183142 non-null  float64\n",
      " 18  ball_control         183142 non-null  float64\n",
      " 19  acceleration         183142 non-null  float64\n",
      " 20  sprint_speed         183142 non-null  float64\n",
      " 21  agility              181265 non-null  float64\n",
      " 22  reactions            183142 non-null  float64\n",
      " 23  balance              181265 non-null  float64\n",
      " 24  shot_power           183142 non-null  float64\n",
      " 25  jumping              181265 non-null  float64\n",
      " 26  stamina              183142 non-null  float64\n",
      " 27  strength             183142 non-null  float64\n",
      " 28  long_shots           183142 non-null  float64\n",
      " 29  aggression           183142 non-null  float64\n",
      " 30  interceptions        183142 non-null  float64\n",
      " 31  positioning          183142 non-null  float64\n",
      " 32  vision               181265 non-null  float64\n",
      " 33  penalties            183142 non-null  float64\n",
      " 34  marking              183142 non-null  float64\n",
      " 35  standing_tackle      183142 non-null  float64\n",
      " 36  sliding_tackle       181265 non-null  float64\n",
      " 37  gk_diving            183142 non-null  float64\n",
      " 38  gk_handling          183142 non-null  float64\n",
      " 39  gk_kicking           183142 non-null  float64\n",
      " 40  gk_positioning       183142 non-null  float64\n",
      " 41  gk_reflexes          183142 non-null  float64\n",
      "dtypes: float64(35), int64(1), object(6)\n",
      "memory usage: 59.0+ MB\n"
     ]
    }
   ],
   "execution_count": 4
  },
  {
   "metadata": {},
   "cell_type": "markdown",
   "source": "Приведем типы данных",
   "id": "dc84b44dc28bff19"
  },
  {
   "metadata": {
    "ExecuteTime": {
     "end_time": "2024-05-09T13:14:17.920244Z",
     "start_time": "2024-05-09T13:14:17.820461Z"
    }
   },
   "cell_type": "code",
   "source": [
    "players['date'] = players['date'].astype('datetime64[ns]')\n",
    "players['birthday'] = players['birthday'].astype('datetime64[ns]')"
   ],
   "id": "efe63c99239ef2ef",
   "outputs": [],
   "execution_count": 5
  },
  {
   "metadata": {},
   "cell_type": "markdown",
   "source": "Создадим колонку с годом",
   "id": "3a374622590c4624"
  },
  {
   "metadata": {
    "ExecuteTime": {
     "end_time": "2024-05-09T13:14:17.942745Z",
     "start_time": "2024-05-09T13:14:17.922254Z"
    }
   },
   "cell_type": "code",
   "source": "players['player_year'] = players['date'].dt.year",
   "id": "2d0d4d1a98bef637",
   "outputs": [],
   "execution_count": 6
  },
  {
   "metadata": {},
   "cell_type": "markdown",
   "source": "Проверим на некорректные данные (< 0 и > 100)",
   "id": "36770e5b3e4ae541"
  },
  {
   "metadata": {
    "ExecuteTime": {
     "end_time": "2024-05-09T13:14:18.004972Z",
     "start_time": "2024-05-09T13:14:17.943750Z"
    }
   },
   "cell_type": "code",
   "source": [
    "players_score = players.select_dtypes(include='float64')\n",
    "players_score_columns = players.select_dtypes(include='float64').columns\n",
    "((players_score < 0).any().sum(), (players_score > 100).any().sum())"
   ],
   "id": "fba60dd5adb25fb8",
   "outputs": [
    {
     "data": {
      "text/plain": [
       "(0, 0)"
      ]
     },
     "execution_count": 7,
     "metadata": {},
     "output_type": "execute_result"
    }
   ],
   "execution_count": 7
  },
  {
   "metadata": {},
   "cell_type": "markdown",
   "source": "*Все данные в допустимом диапазоне*",
   "id": "fbb23a63d1b207bb"
  },
  {
   "metadata": {},
   "cell_type": "markdown",
   "source": "Отделим goalkeepers от других игроков",
   "id": "9c9fd2e3e735198f"
  },
  {
   "metadata": {
    "ExecuteTime": {
     "end_time": "2024-05-09T13:14:25.009075Z",
     "start_time": "2024-05-09T13:14:18.008982Z"
    }
   },
   "cell_type": "code",
   "source": [
    "players_gk_columns = [col for col in players_score_columns if col.startswith('gk_')]\n",
    "players_non_gk_columns = players_score_columns.difference(players_gk_columns)\n",
    "\n",
    "plt.figure(figsize=(10, 6))\n",
    "\n",
    "for column in players_gk_columns:\n",
    "    sns.histplot(players[column], bins=30, kde=True, label=column)\n",
    "\n",
    "plt.title('Определим границу Score, отделяющей goalkeeper')\n",
    "plt.xlabel('Score')\n",
    "plt.ylabel('Частота')\n",
    "plt.legend()\n",
    "plt.show()"
   ],
   "id": "d690226c20c7fd00",
   "outputs": [
    {
     "data": {
      "text/plain": [
       "<Figure size 1000x600 with 1 Axes>"
      ],
      "image/png": "[encoded data removed]"
     },
     "metadata": {},
     "output_type": "display_data"
    }
   ],
   "execution_count": 8
  },
  {
   "metadata": {
    "ExecuteTime": {
     "end_time": "2024-05-09T13:14:25.019895Z",
     "start_time": "2024-05-09T13:14:25.011082Z"
    }
   },
   "cell_type": "code",
   "source": [
    "gk_criteria = 40\n",
    "players['is_gk'] = (players['gk_positioning'] > gk_criteria) & \\\n",
    "                   (players['gk_reflexes'] > gk_criteria) & \\\n",
    "                   (players['gk_diving'] > gk_criteria) & \\\n",
    "                   (players['gk_handling'] > gk_criteria)"
   ],
   "id": "685c7360c55935c6",
   "outputs": [],
   "execution_count": 9
  },
  {
   "metadata": {},
   "cell_type": "markdown",
   "source": "Проверим параметры на пропущенные значения",
   "id": "c0e0040c6da2d804"
  },
  {
   "metadata": {
    "ExecuteTime": {
     "end_time": "2024-05-09T13:14:25.068238Z",
     "start_time": "2024-05-09T13:14:25.021902Z"
    }
   },
   "cell_type": "code",
   "source": [
    "missing_players_values = players.select_dtypes(include='float').isnull().sum()\n",
    "missing_players_percentage = (missing_players_values / players.shape[0]) * 100\n",
    "missing_players_percentage.sort_values(ascending=False)"
   ],
   "id": "1dd0100df073668a",
   "outputs": [
    {
     "data": {
      "text/plain": [
       "vision                1.474633\n",
       "jumping               1.474633\n",
       "balance               1.474633\n",
       "volleys               1.474633\n",
       "sliding_tackle        1.474633\n",
       "curve                 1.474633\n",
       "agility               1.474633\n",
       "overall_rating        0.454402\n",
       "aggression            0.454402\n",
       "interceptions         0.454402\n",
       "positioning           0.454402\n",
       "marking               0.454402\n",
       "penalties             0.454402\n",
       "strength              0.454402\n",
       "standing_tackle       0.454402\n",
       "gk_diving             0.454402\n",
       "gk_handling           0.454402\n",
       "gk_kicking            0.454402\n",
       "gk_positioning        0.454402\n",
       "long_shots            0.454402\n",
       "shot_power            0.454402\n",
       "stamina               0.454402\n",
       "potential             0.454402\n",
       "reactions             0.454402\n",
       "sprint_speed          0.454402\n",
       "acceleration          0.454402\n",
       "ball_control          0.454402\n",
       "long_passing          0.454402\n",
       "free_kick_accuracy    0.454402\n",
       "dribbling             0.454402\n",
       "short_passing         0.454402\n",
       "heading_accuracy      0.454402\n",
       "finishing             0.454402\n",
       "crossing              0.454402\n",
       "gk_reflexes           0.454402\n",
       "dtype: float64"
      ]
     },
     "execution_count": 10,
     "metadata": {},
     "output_type": "execute_result"
    }
   ],
   "execution_count": 10
  },
  {
   "metadata": {},
   "cell_type": "markdown",
   "source": "*Пропусков менее 2%*",
   "id": "b93308c2e4a62461"
  },
  {
   "metadata": {},
   "cell_type": "markdown",
   "source": " Заполним пропуски средним значением (так как нет выбросов).",
   "id": "e8c90b47f948d9b3"
  },
  {
   "metadata": {
    "ExecuteTime": {
     "end_time": "2024-05-09T13:14:25.326265Z",
     "start_time": "2024-05-09T13:14:25.070246Z"
    }
   },
   "cell_type": "code",
   "source": [
    "players_columns_to_fill = missing_players_percentage[missing_players_percentage > 0].index\n",
    "mean_players_values = players[players_columns_to_fill].mean()\n",
    "players[players_columns_to_fill] = players[missing_players_percentage[missing_players_percentage > 0].index].fillna(\n",
    "    mean_players_values)"
   ],
   "id": "6b2d428c36d2d5e7",
   "outputs": [],
   "execution_count": 11
  },
  {
   "metadata": {},
   "cell_type": "markdown",
   "source": "Вычислим средний Score каждого игрока по атрибутам, соответствующим для игроков разных позиций",
   "id": "98347087fbb1832b"
  },
  {
   "metadata": {
    "ExecuteTime": {
     "end_time": "2024-05-09T13:15:52.645759Z",
     "start_time": "2024-05-09T13:14:25.327275Z"
    }
   },
   "cell_type": "code",
   "source": [
    "def calculate_player_score(row):\n",
    "    if row['is_gk']:\n",
    "        return row[players_gk_columns].mean().round(2)\n",
    "    return row[players_non_gk_columns].mean().round(2)\n",
    "\n",
    "\n",
    "players['player_score'] = players.apply(calculate_player_score, axis=1)"
   ],
   "id": "ce73321721e2e7da",
   "outputs": [],
   "execution_count": 12
  },
  {
   "metadata": {},
   "cell_type": "markdown",
   "source": "Так как используемая нами методология расчета player_score проще, чем предлагаемая в данных. То оставим обе. Для улучшения нашего метода можно: разделить на защитников/нападающих/полузащитников, также использовать категориальные переменные.",
   "id": "e8230b05a75a0f"
  },
  {
   "metadata": {
    "ExecuteTime": {
     "end_time": "2024-05-09T13:15:52.668757Z",
     "start_time": "2024-05-09T13:15:52.647767Z"
    }
   },
   "cell_type": "code",
   "source": [
    "players = players[['player_api_id', 'player_year', 'overall_rating', 'player_score']]\n",
    "\n",
    "players.head(2)"
   ],
   "id": "2ccdcd8a226c9633",
   "outputs": [
    {
     "data": {
      "text/plain": [
       "   player_api_id  player_year  overall_rating  player_score\n",
       "0         505942         2016            67.0          57.3\n",
       "1         505942         2015            67.0          57.3"
      ],
      "text/html": [
       "<div>\n",
       "<style scoped>\n",
       "    .dataframe tbody tr th:only-of-type {\n",
       "        vertical-align: middle;\n",
       "    }\n",
       "\n",
       "    .dataframe tbody tr th {\n",
       "        vertical-align: top;\n",
       "    }\n",
       "\n",
       "    .dataframe thead th {\n",
       "        text-align: right;\n",
       "    }\n",
       "</style>\n",
       "<table border=\"1\" class=\"dataframe\">\n",
       "  <thead>\n",
       "    <tr style=\"text-align: right;\">\n",
       "      <th></th>\n",
       "      <th>player_api_id</th>\n",
       "      <th>player_year</th>\n",
       "      <th>overall_rating</th>\n",
       "      <th>player_score</th>\n",
       "    </tr>\n",
       "  </thead>\n",
       "  <tbody>\n",
       "    <tr>\n",
       "      <th>0</th>\n",
       "      <td>505942</td>\n",
       "      <td>2016</td>\n",
       "      <td>67.0</td>\n",
       "      <td>57.3</td>\n",
       "    </tr>\n",
       "    <tr>\n",
       "      <th>1</th>\n",
       "      <td>505942</td>\n",
       "      <td>2015</td>\n",
       "      <td>67.0</td>\n",
       "      <td>57.3</td>\n",
       "    </tr>\n",
       "  </tbody>\n",
       "</table>\n",
       "</div>"
      ]
     },
     "execution_count": 13,
     "metadata": {},
     "output_type": "execute_result"
    }
   ],
   "execution_count": 13
  },
  {
   "metadata": {},
   "cell_type": "markdown",
   "source": "## Teams Dataset",
   "id": "84c5d54709e76b6e"
  },
  {
   "metadata": {},
   "cell_type": "markdown",
   "source": "Посмотрим на данные в Teams Dataset",
   "id": "599e55b8edfc654d"
  },
  {
   "metadata": {
    "ExecuteTime": {
     "end_time": "2024-05-09T13:15:52.703933Z",
     "start_time": "2024-05-09T13:15:52.670765Z"
    }
   },
   "cell_type": "code",
   "source": "teams.head(4)",
   "id": "2b613c6493d9e2c2",
   "outputs": [
    {
     "data": {
      "text/plain": [
       "   team_api_id team_long_name team_short_name defenceTeamWidthClass  \\\n",
       "0         9930       FC Aarau             AAR                Normal   \n",
       "1         9930       FC Aarau             AAR                Normal   \n",
       "2         9930       FC Aarau             AAR                Normal   \n",
       "3         8485       Aberdeen             ABE                  Wide   \n",
       "\n",
       "   defenceTeamWidth defencePressureClass  defencePressure  \\\n",
       "0                45               Medium               50   \n",
       "1                54               Medium               47   \n",
       "2                54               Medium               47   \n",
       "3                70               Medium               60   \n",
       "\n",
       "  defenceDefenderLineClass defenceAggressionClass  defenceAggression  ...  \\\n",
       "0                    Cover                  Press                 55  ...   \n",
       "1                    Cover                  Press                 44  ...   \n",
       "2                    Cover                  Press                 44  ...   \n",
       "3                    Cover                 Double                 70  ...   \n",
       "\n",
       "  chanceCreationPassing chanceCreationCrossingClass  chanceCreationCrossing  \\\n",
       "0                    60                      Normal                      65   \n",
       "1                    54                      Normal                      63   \n",
       "2                    54                      Normal                      63   \n",
       "3                    70                        Lots                      70   \n",
       "\n",
       "  buildUpPlaySpeedClass buildUpPlaySpeed  buildUpPlayPositioningClass  \\\n",
       "0              Balanced               60                    Organised   \n",
       "1              Balanced               52                    Organised   \n",
       "2              Balanced               47                    Organised   \n",
       "3                  Fast               70                    Organised   \n",
       "\n",
       "  buildUpPlayPassingClass  buildUpPlayPassing buildUpPlayDribblingClass  \\\n",
       "0                   Mixed                  50                    Little   \n",
       "1                   Mixed                  56                    Normal   \n",
       "2                   Mixed                  54                    Normal   \n",
       "3                    Long                  70                    Little   \n",
       "\n",
       "   buildUpPlayDribbling  \n",
       "0                   NaN  \n",
       "1                  48.0  \n",
       "2                  41.0  \n",
       "3                   NaN  \n",
       "\n",
       "[4 rows x 25 columns]"
      ],
      "text/html": [
       "<div>\n",
       "<style scoped>\n",
       "    .dataframe tbody tr th:only-of-type {\n",
       "        vertical-align: middle;\n",
       "    }\n",
       "\n",
       "    .dataframe tbody tr th {\n",
       "        vertical-align: top;\n",
       "    }\n",
       "\n",
       "    .dataframe thead th {\n",
       "        text-align: right;\n",
       "    }\n",
       "</style>\n",
       "<table border=\"1\" class=\"dataframe\">\n",
       "  <thead>\n",
       "    <tr style=\"text-align: right;\">\n",
       "      <th></th>\n",
       "      <th>team_api_id</th>\n",
       "      <th>team_long_name</th>\n",
       "      <th>team_short_name</th>\n",
       "      <th>defenceTeamWidthClass</th>\n",
       "      <th>defenceTeamWidth</th>\n",
       "      <th>defencePressureClass</th>\n",
       "      <th>defencePressure</th>\n",
       "      <th>defenceDefenderLineClass</th>\n",
       "      <th>defenceAggressionClass</th>\n",
       "      <th>defenceAggression</th>\n",
       "      <th>...</th>\n",
       "      <th>chanceCreationPassing</th>\n",
       "      <th>chanceCreationCrossingClass</th>\n",
       "      <th>chanceCreationCrossing</th>\n",
       "      <th>buildUpPlaySpeedClass</th>\n",
       "      <th>buildUpPlaySpeed</th>\n",
       "      <th>buildUpPlayPositioningClass</th>\n",
       "      <th>buildUpPlayPassingClass</th>\n",
       "      <th>buildUpPlayPassing</th>\n",
       "      <th>buildUpPlayDribblingClass</th>\n",
       "      <th>buildUpPlayDribbling</th>\n",
       "    </tr>\n",
       "  </thead>\n",
       "  <tbody>\n",
       "    <tr>\n",
       "      <th>0</th>\n",
       "      <td>9930</td>\n",
       "      <td>FC Aarau</td>\n",
       "      <td>AAR</td>\n",
       "      <td>Normal</td>\n",
       "      <td>45</td>\n",
       "      <td>Medium</td>\n",
       "      <td>50</td>\n",
       "      <td>Cover</td>\n",
       "      <td>Press</td>\n",
       "      <td>55</td>\n",
       "      <td>...</td>\n",
       "      <td>60</td>\n",
       "      <td>Normal</td>\n",
       "      <td>65</td>\n",
       "      <td>Balanced</td>\n",
       "      <td>60</td>\n",
       "      <td>Organised</td>\n",
       "      <td>Mixed</td>\n",
       "      <td>50</td>\n",
       "      <td>Little</td>\n",
       "      <td>NaN</td>\n",
       "    </tr>\n",
       "    <tr>\n",
       "      <th>1</th>\n",
       "      <td>9930</td>\n",
       "      <td>FC Aarau</td>\n",
       "      <td>AAR</td>\n",
       "      <td>Normal</td>\n",
       "      <td>54</td>\n",
       "      <td>Medium</td>\n",
       "      <td>47</td>\n",
       "      <td>Cover</td>\n",
       "      <td>Press</td>\n",
       "      <td>44</td>\n",
       "      <td>...</td>\n",
       "      <td>54</td>\n",
       "      <td>Normal</td>\n",
       "      <td>63</td>\n",
       "      <td>Balanced</td>\n",
       "      <td>52</td>\n",
       "      <td>Organised</td>\n",
       "      <td>Mixed</td>\n",
       "      <td>56</td>\n",
       "      <td>Normal</td>\n",
       "      <td>48.0</td>\n",
       "    </tr>\n",
       "    <tr>\n",
       "      <th>2</th>\n",
       "      <td>9930</td>\n",
       "      <td>FC Aarau</td>\n",
       "      <td>AAR</td>\n",
       "      <td>Normal</td>\n",
       "      <td>54</td>\n",
       "      <td>Medium</td>\n",
       "      <td>47</td>\n",
       "      <td>Cover</td>\n",
       "      <td>Press</td>\n",
       "      <td>44</td>\n",
       "      <td>...</td>\n",
       "      <td>54</td>\n",
       "      <td>Normal</td>\n",
       "      <td>63</td>\n",
       "      <td>Balanced</td>\n",
       "      <td>47</td>\n",
       "      <td>Organised</td>\n",
       "      <td>Mixed</td>\n",
       "      <td>54</td>\n",
       "      <td>Normal</td>\n",
       "      <td>41.0</td>\n",
       "    </tr>\n",
       "    <tr>\n",
       "      <th>3</th>\n",
       "      <td>8485</td>\n",
       "      <td>Aberdeen</td>\n",
       "      <td>ABE</td>\n",
       "      <td>Wide</td>\n",
       "      <td>70</td>\n",
       "      <td>Medium</td>\n",
       "      <td>60</td>\n",
       "      <td>Cover</td>\n",
       "      <td>Double</td>\n",
       "      <td>70</td>\n",
       "      <td>...</td>\n",
       "      <td>70</td>\n",
       "      <td>Lots</td>\n",
       "      <td>70</td>\n",
       "      <td>Fast</td>\n",
       "      <td>70</td>\n",
       "      <td>Organised</td>\n",
       "      <td>Long</td>\n",
       "      <td>70</td>\n",
       "      <td>Little</td>\n",
       "      <td>NaN</td>\n",
       "    </tr>\n",
       "  </tbody>\n",
       "</table>\n",
       "<p>4 rows × 25 columns</p>\n",
       "</div>"
      ]
     },
     "execution_count": 14,
     "metadata": {},
     "output_type": "execute_result"
    }
   ],
   "execution_count": 14
  },
  {
   "metadata": {
    "ExecuteTime": {
     "end_time": "2024-05-09T13:15:52.727698Z",
     "start_time": "2024-05-09T13:15:52.705943Z"
    }
   },
   "cell_type": "code",
   "source": "teams.info()",
   "id": "e83154d63aaa6e64",
   "outputs": [
    {
     "name": "stdout",
     "output_type": "stream",
     "text": [
      "<class 'pandas.core.frame.DataFrame'>\n",
      "RangeIndex: 1458 entries, 0 to 1457\n",
      "Data columns (total 25 columns):\n",
      " #   Column                          Non-Null Count  Dtype  \n",
      "---  ------                          --------------  -----  \n",
      " 0   team_api_id                     1458 non-null   int64  \n",
      " 1   team_long_name                  1458 non-null   object \n",
      " 2   team_short_name                 1458 non-null   object \n",
      " 3   defenceTeamWidthClass           1458 non-null   object \n",
      " 4   defenceTeamWidth                1458 non-null   int64  \n",
      " 5   defencePressureClass            1458 non-null   object \n",
      " 6   defencePressure                 1458 non-null   int64  \n",
      " 7   defenceDefenderLineClass        1458 non-null   object \n",
      " 8   defenceAggressionClass          1458 non-null   object \n",
      " 9   defenceAggression               1458 non-null   int64  \n",
      " 10  date                            1458 non-null   object \n",
      " 11  chanceCreationShootingClass     1458 non-null   object \n",
      " 12  chanceCreationShooting          1458 non-null   int64  \n",
      " 13  chanceCreationPositioningClass  1458 non-null   object \n",
      " 14  chanceCreationPassingClass      1458 non-null   object \n",
      " 15  chanceCreationPassing           1458 non-null   int64  \n",
      " 16  chanceCreationCrossingClass     1458 non-null   object \n",
      " 17  chanceCreationCrossing          1458 non-null   int64  \n",
      " 18  buildUpPlaySpeedClass           1458 non-null   object \n",
      " 19  buildUpPlaySpeed                1458 non-null   int64  \n",
      " 20  buildUpPlayPositioningClass     1458 non-null   object \n",
      " 21  buildUpPlayPassingClass         1458 non-null   object \n",
      " 22  buildUpPlayPassing              1458 non-null   int64  \n",
      " 23  buildUpPlayDribblingClass       1458 non-null   object \n",
      " 24  buildUpPlayDribbling            489 non-null    float64\n",
      "dtypes: float64(1), int64(9), object(15)\n",
      "memory usage: 284.9+ KB\n"
     ]
    }
   ],
   "execution_count": 15
  },
  {
   "metadata": {
    "ExecuteTime": {
     "end_time": "2024-05-09T13:15:52.738408Z",
     "start_time": "2024-05-09T13:15:52.728706Z"
    }
   },
   "cell_type": "code",
   "source": "teams['date'] = teams['date'].astype('datetime64[ns]')",
   "id": "a41c5501ea3a479",
   "outputs": [],
   "execution_count": 16
  },
  {
   "metadata": {},
   "cell_type": "markdown",
   "source": "Создадим колонку с годом",
   "id": "55f8742890bc1379"
  },
  {
   "metadata": {
    "ExecuteTime": {
     "end_time": "2024-05-09T13:15:52.745765Z",
     "start_time": "2024-05-09T13:15:52.740413Z"
    }
   },
   "cell_type": "code",
   "source": "teams['team_year'] = teams['date'].dt.year",
   "id": "5b881ee0f5905f6e",
   "outputs": [],
   "execution_count": 17
  },
  {
   "metadata": {},
   "cell_type": "markdown",
   "source": "Заменим цифры в начале имен команд",
   "id": "18f4356715182d2"
  },
  {
   "metadata": {
    "ExecuteTime": {
     "end_time": "2024-05-09T13:15:52.757092Z",
     "start_time": "2024-05-09T13:15:52.747773Z"
    }
   },
   "cell_type": "code",
   "source": "teams['team_long_name'].replace(regex='^\\d\\.\\s', value='', inplace=True)",
   "id": "19709d209b1f9a66",
   "outputs": [],
   "execution_count": 18
  },
  {
   "metadata": {},
   "cell_type": "markdown",
   "source": "Проверим на некорректные данные (< 0 и > 100)",
   "id": "164bf46c266f79bd"
  },
  {
   "metadata": {
    "ExecuteTime": {
     "end_time": "2024-05-09T13:15:52.776205Z",
     "start_time": "2024-05-09T13:15:52.760103Z"
    }
   },
   "cell_type": "code",
   "source": [
    "teams_score = teams.select_dtypes(include=['float', 'int'])\n",
    "((teams_score < 0).any(), (teams_score > 100).any())"
   ],
   "id": "b46a190b961bf7ba",
   "outputs": [
    {
     "data": {
      "text/plain": [
       "(team_api_id               False\n",
       " defenceTeamWidth          False\n",
       " defencePressure           False\n",
       " defenceAggression         False\n",
       " chanceCreationShooting    False\n",
       " chanceCreationPassing     False\n",
       " chanceCreationCrossing    False\n",
       " buildUpPlaySpeed          False\n",
       " buildUpPlayPassing        False\n",
       " buildUpPlayDribbling      False\n",
       " team_year                 False\n",
       " dtype: bool,\n",
       " team_api_id                True\n",
       " defenceTeamWidth          False\n",
       " defencePressure           False\n",
       " defenceAggression         False\n",
       " chanceCreationShooting    False\n",
       " chanceCreationPassing     False\n",
       " chanceCreationCrossing    False\n",
       " buildUpPlaySpeed          False\n",
       " buildUpPlayPassing        False\n",
       " buildUpPlayDribbling      False\n",
       " team_year                  True\n",
       " dtype: bool)"
      ]
     },
     "execution_count": 19,
     "metadata": {},
     "output_type": "execute_result"
    }
   ],
   "execution_count": 19
  },
  {
   "metadata": {},
   "cell_type": "markdown",
   "source": "*Некорректных данных - нет.*",
   "id": "e213db595464a04f"
  },
  {
   "metadata": {
    "ExecuteTime": {
     "end_time": "2024-05-09T13:15:52.789512Z",
     "start_time": "2024-05-09T13:15:52.777217Z"
    }
   },
   "cell_type": "code",
   "source": [
    "missing_teams_values = teams.isnull().sum()\n",
    "missing_teams_percentage = (missing_teams_values / teams.shape[0]) * 100\n",
    "missing_teams_percentage.sort_values(ascending=False)"
   ],
   "id": "cb2961275e959c34",
   "outputs": [
    {
     "data": {
      "text/plain": [
       "buildUpPlayDribbling              66.460905\n",
       "team_api_id                        0.000000\n",
       "team_long_name                     0.000000\n",
       "buildUpPlayDribblingClass          0.000000\n",
       "buildUpPlayPassing                 0.000000\n",
       "buildUpPlayPassingClass            0.000000\n",
       "buildUpPlayPositioningClass        0.000000\n",
       "buildUpPlaySpeed                   0.000000\n",
       "buildUpPlaySpeedClass              0.000000\n",
       "chanceCreationCrossing             0.000000\n",
       "chanceCreationCrossingClass        0.000000\n",
       "chanceCreationPassing              0.000000\n",
       "chanceCreationPassingClass         0.000000\n",
       "chanceCreationPositioningClass     0.000000\n",
       "chanceCreationShooting             0.000000\n",
       "chanceCreationShootingClass        0.000000\n",
       "date                               0.000000\n",
       "defenceAggression                  0.000000\n",
       "defenceAggressionClass             0.000000\n",
       "defenceDefenderLineClass           0.000000\n",
       "defencePressure                    0.000000\n",
       "defencePressureClass               0.000000\n",
       "defenceTeamWidth                   0.000000\n",
       "defenceTeamWidthClass              0.000000\n",
       "team_short_name                    0.000000\n",
       "team_year                          0.000000\n",
       "dtype: float64"
      ]
     },
     "execution_count": 20,
     "metadata": {},
     "output_type": "execute_result"
    }
   ],
   "execution_count": 20
  },
  {
   "metadata": {},
   "cell_type": "markdown",
   "source": "Не будем использовать параметр с более 60% пропусков. Удалим его",
   "id": "b20f834835f31ee8"
  },
  {
   "metadata": {
    "ExecuteTime": {
     "end_time": "2024-05-09T13:15:52.799114Z",
     "start_time": "2024-05-09T13:15:52.791522Z"
    }
   },
   "cell_type": "code",
   "source": [
    "teams_columns_to_delete = missing_teams_percentage[missing_teams_percentage > 0].index\n",
    "teams.drop(columns=teams_columns_to_delete, inplace=True)\n",
    "teams_score_columns = teams.select_dtypes(include=['float', 'int']).columns"
   ],
   "id": "251649c7b0179bd0",
   "outputs": [],
   "execution_count": 21
  },
  {
   "metadata": {},
   "cell_type": "markdown",
   "source": "Вычислим team_score",
   "id": "2406b78b1136ab69"
  },
  {
   "metadata": {
    "ExecuteTime": {
     "end_time": "2024-05-09T13:15:52.811931Z",
     "start_time": "2024-05-09T13:15:52.801128Z"
    }
   },
   "cell_type": "code",
   "source": [
    "teams['team_score'] = teams[\n",
    "    ['defenceTeamWidth', 'defencePressure', 'defenceAggression', 'chanceCreationShooting',\n",
    "     'chanceCreationPassing', 'chanceCreationCrossing', 'buildUpPlaySpeed', 'buildUpPlayPassing']].mean(axis=1).round(2)"
   ],
   "id": "2f49d19c7393f270",
   "outputs": [],
   "execution_count": 22
  },
  {
   "metadata": {
    "ExecuteTime": {
     "end_time": "2024-05-09T13:15:52.831598Z",
     "start_time": "2024-05-09T13:15:52.820941Z"
    }
   },
   "cell_type": "code",
   "source": "teams = teams[['team_api_id', 'team_year', 'team_long_name', 'team_short_name', 'team_score']]",
   "id": "3e245813179c23e4",
   "outputs": [],
   "execution_count": 23
  },
  {
   "metadata": {
    "ExecuteTime": {
     "end_time": "2024-05-09T13:15:52.848201Z",
     "start_time": "2024-05-09T13:15:52.833610Z"
    }
   },
   "cell_type": "code",
   "source": "teams.head(2)",
   "id": "4692a4001ab03e37",
   "outputs": [
    {
     "data": {
      "text/plain": [
       "   team_api_id  team_year team_long_name team_short_name  team_score\n",
       "0         9930       2010       FC Aarau             AAR       55.00\n",
       "1         9930       2014       FC Aarau             AAR       54.25"
      ],
      "text/html": [
       "<div>\n",
       "<style scoped>\n",
       "    .dataframe tbody tr th:only-of-type {\n",
       "        vertical-align: middle;\n",
       "    }\n",
       "\n",
       "    .dataframe tbody tr th {\n",
       "        vertical-align: top;\n",
       "    }\n",
       "\n",
       "    .dataframe thead th {\n",
       "        text-align: right;\n",
       "    }\n",
       "</style>\n",
       "<table border=\"1\" class=\"dataframe\">\n",
       "  <thead>\n",
       "    <tr style=\"text-align: right;\">\n",
       "      <th></th>\n",
       "      <th>team_api_id</th>\n",
       "      <th>team_year</th>\n",
       "      <th>team_long_name</th>\n",
       "      <th>team_short_name</th>\n",
       "      <th>team_score</th>\n",
       "    </tr>\n",
       "  </thead>\n",
       "  <tbody>\n",
       "    <tr>\n",
       "      <th>0</th>\n",
       "      <td>9930</td>\n",
       "      <td>2010</td>\n",
       "      <td>FC Aarau</td>\n",
       "      <td>AAR</td>\n",
       "      <td>55.00</td>\n",
       "    </tr>\n",
       "    <tr>\n",
       "      <th>1</th>\n",
       "      <td>9930</td>\n",
       "      <td>2014</td>\n",
       "      <td>FC Aarau</td>\n",
       "      <td>AAR</td>\n",
       "      <td>54.25</td>\n",
       "    </tr>\n",
       "  </tbody>\n",
       "</table>\n",
       "</div>"
      ]
     },
     "execution_count": 24,
     "metadata": {},
     "output_type": "execute_result"
    }
   ],
   "execution_count": 24
  },
  {
   "metadata": {},
   "cell_type": "markdown",
   "source": "## Matches Dataset",
   "id": "2d6793c201a63a61"
  },
  {
   "metadata": {},
   "cell_type": "markdown",
   "source": "Посмотрим на данные Matches",
   "id": "404bc75a25bd7ea9"
  },
  {
   "metadata": {
    "ExecuteTime": {
     "end_time": "2024-05-09T13:15:52.883711Z",
     "start_time": "2024-05-09T13:15:52.851227Z"
    }
   },
   "cell_type": "code",
   "source": "matches.head(4)",
   "id": "16c320c470e8ed75",
   "outputs": [
    {
     "data": {
      "text/plain": [
       "   id country_name             league_name     season  stage  \\\n",
       "0   1      Belgium  Belgium Jupiler League  2008/2009      1   \n",
       "1   2      Belgium  Belgium Jupiler League  2008/2009      1   \n",
       "2   3      Belgium  Belgium Jupiler League  2008/2009      1   \n",
       "3   4      Belgium  Belgium Jupiler League  2008/2009      1   \n",
       "\n",
       "                  date  match_api_id  home_team_api_id  away_team_api_id  \\\n",
       "0  2008-08-17 00:00:00        492473              9987              9993   \n",
       "1  2008-08-16 00:00:00        492474             10000              9994   \n",
       "2  2008-08-16 00:00:00        492475              9984              8635   \n",
       "3  2008-08-17 00:00:00        492476              9991              9998   \n",
       "\n",
       "   home_team_goal  ...  SJA   VCH   VCD   VCA   GBH   GBD   GBA   BSH   BSD  \\\n",
       "0               1  ...  4.0  1.65  3.40  4.50  1.78  3.25  4.00  1.73  3.40   \n",
       "1               0  ...  3.8  2.00  3.25  3.25  1.85  3.25  3.75  1.91  3.25   \n",
       "2               0  ...  2.5  2.35  3.25  2.65  2.50  3.20  2.50  2.30  3.20   \n",
       "3               5  ...  7.5  1.45  3.75  6.50  1.50  3.75  5.50  1.44  3.75   \n",
       "\n",
       "    BSA  \n",
       "0  4.20  \n",
       "1  3.60  \n",
       "2  2.75  \n",
       "3  6.50  \n",
       "\n",
       "[4 rows x 63 columns]"
      ],
      "text/html": [
       "<div>\n",
       "<style scoped>\n",
       "    .dataframe tbody tr th:only-of-type {\n",
       "        vertical-align: middle;\n",
       "    }\n",
       "\n",
       "    .dataframe tbody tr th {\n",
       "        vertical-align: top;\n",
       "    }\n",
       "\n",
       "    .dataframe thead th {\n",
       "        text-align: right;\n",
       "    }\n",
       "</style>\n",
       "<table border=\"1\" class=\"dataframe\">\n",
       "  <thead>\n",
       "    <tr style=\"text-align: right;\">\n",
       "      <th></th>\n",
       "      <th>id</th>\n",
       "      <th>country_name</th>\n",
       "      <th>league_name</th>\n",
       "      <th>season</th>\n",
       "      <th>stage</th>\n",
       "      <th>date</th>\n",
       "      <th>match_api_id</th>\n",
       "      <th>home_team_api_id</th>\n",
       "      <th>away_team_api_id</th>\n",
       "      <th>home_team_goal</th>\n",
       "      <th>...</th>\n",
       "      <th>SJA</th>\n",
       "      <th>VCH</th>\n",
       "      <th>VCD</th>\n",
       "      <th>VCA</th>\n",
       "      <th>GBH</th>\n",
       "      <th>GBD</th>\n",
       "      <th>GBA</th>\n",
       "      <th>BSH</th>\n",
       "      <th>BSD</th>\n",
       "      <th>BSA</th>\n",
       "    </tr>\n",
       "  </thead>\n",
       "  <tbody>\n",
       "    <tr>\n",
       "      <th>0</th>\n",
       "      <td>1</td>\n",
       "      <td>Belgium</td>\n",
       "      <td>Belgium Jupiler League</td>\n",
       "      <td>2008/2009</td>\n",
       "      <td>1</td>\n",
       "      <td>2008-08-17 00:00:00</td>\n",
       "      <td>492473</td>\n",
       "      <td>9987</td>\n",
       "      <td>9993</td>\n",
       "      <td>1</td>\n",
       "      <td>...</td>\n",
       "      <td>4.0</td>\n",
       "      <td>1.65</td>\n",
       "      <td>3.40</td>\n",
       "      <td>4.50</td>\n",
       "      <td>1.78</td>\n",
       "      <td>3.25</td>\n",
       "      <td>4.00</td>\n",
       "      <td>1.73</td>\n",
       "      <td>3.40</td>\n",
       "      <td>4.20</td>\n",
       "    </tr>\n",
       "    <tr>\n",
       "      <th>1</th>\n",
       "      <td>2</td>\n",
       "      <td>Belgium</td>\n",
       "      <td>Belgium Jupiler League</td>\n",
       "      <td>2008/2009</td>\n",
       "      <td>1</td>\n",
       "      <td>2008-08-16 00:00:00</td>\n",
       "      <td>492474</td>\n",
       "      <td>10000</td>\n",
       "      <td>9994</td>\n",
       "      <td>0</td>\n",
       "      <td>...</td>\n",
       "      <td>3.8</td>\n",
       "      <td>2.00</td>\n",
       "      <td>3.25</td>\n",
       "      <td>3.25</td>\n",
       "      <td>1.85</td>\n",
       "      <td>3.25</td>\n",
       "      <td>3.75</td>\n",
       "      <td>1.91</td>\n",
       "      <td>3.25</td>\n",
       "      <td>3.60</td>\n",
       "    </tr>\n",
       "    <tr>\n",
       "      <th>2</th>\n",
       "      <td>3</td>\n",
       "      <td>Belgium</td>\n",
       "      <td>Belgium Jupiler League</td>\n",
       "      <td>2008/2009</td>\n",
       "      <td>1</td>\n",
       "      <td>2008-08-16 00:00:00</td>\n",
       "      <td>492475</td>\n",
       "      <td>9984</td>\n",
       "      <td>8635</td>\n",
       "      <td>0</td>\n",
       "      <td>...</td>\n",
       "      <td>2.5</td>\n",
       "      <td>2.35</td>\n",
       "      <td>3.25</td>\n",
       "      <td>2.65</td>\n",
       "      <td>2.50</td>\n",
       "      <td>3.20</td>\n",
       "      <td>2.50</td>\n",
       "      <td>2.30</td>\n",
       "      <td>3.20</td>\n",
       "      <td>2.75</td>\n",
       "    </tr>\n",
       "    <tr>\n",
       "      <th>3</th>\n",
       "      <td>4</td>\n",
       "      <td>Belgium</td>\n",
       "      <td>Belgium Jupiler League</td>\n",
       "      <td>2008/2009</td>\n",
       "      <td>1</td>\n",
       "      <td>2008-08-17 00:00:00</td>\n",
       "      <td>492476</td>\n",
       "      <td>9991</td>\n",
       "      <td>9998</td>\n",
       "      <td>5</td>\n",
       "      <td>...</td>\n",
       "      <td>7.5</td>\n",
       "      <td>1.45</td>\n",
       "      <td>3.75</td>\n",
       "      <td>6.50</td>\n",
       "      <td>1.50</td>\n",
       "      <td>3.75</td>\n",
       "      <td>5.50</td>\n",
       "      <td>1.44</td>\n",
       "      <td>3.75</td>\n",
       "      <td>6.50</td>\n",
       "    </tr>\n",
       "  </tbody>\n",
       "</table>\n",
       "<p>4 rows × 63 columns</p>\n",
       "</div>"
      ]
     },
     "execution_count": 25,
     "metadata": {},
     "output_type": "execute_result"
    }
   ],
   "execution_count": 25
  },
  {
   "metadata": {
    "ExecuteTime": {
     "end_time": "2024-05-09T13:15:52.905873Z",
     "start_time": "2024-05-09T13:15:52.885723Z"
    }
   },
   "cell_type": "code",
   "source": "matches.info()",
   "id": "8029e368f2650fa6",
   "outputs": [
    {
     "name": "stdout",
     "output_type": "stream",
     "text": [
      "<class 'pandas.core.frame.DataFrame'>\n",
      "RangeIndex: 25979 entries, 0 to 25978\n",
      "Data columns (total 63 columns):\n",
      " #   Column            Non-Null Count  Dtype  \n",
      "---  ------            --------------  -----  \n",
      " 0   id                25979 non-null  int64  \n",
      " 1   country_name      25979 non-null  object \n",
      " 2   league_name       25979 non-null  object \n",
      " 3   season            25979 non-null  object \n",
      " 4   stage             25979 non-null  int64  \n",
      " 5   date              25979 non-null  object \n",
      " 6   match_api_id      25979 non-null  int64  \n",
      " 7   home_team_api_id  25979 non-null  int64  \n",
      " 8   away_team_api_id  25979 non-null  int64  \n",
      " 9   home_team_goal    25979 non-null  int64  \n",
      " 10  away_team_goal    25979 non-null  int64  \n",
      " 11  home_player_1     24755 non-null  float64\n",
      " 12  home_player_2     24664 non-null  float64\n",
      " 13  home_player_3     24698 non-null  float64\n",
      " 14  home_player_4     24656 non-null  float64\n",
      " 15  home_player_5     24663 non-null  float64\n",
      " 16  home_player_6     24654 non-null  float64\n",
      " 17  home_player_7     24752 non-null  float64\n",
      " 18  home_player_8     24670 non-null  float64\n",
      " 19  home_player_9     24706 non-null  float64\n",
      " 20  home_player_10    24543 non-null  float64\n",
      " 21  home_player_11    24424 non-null  float64\n",
      " 22  away_player_1     24745 non-null  float64\n",
      " 23  away_player_2     24701 non-null  float64\n",
      " 24  away_player_3     24686 non-null  float64\n",
      " 25  away_player_4     24658 non-null  float64\n",
      " 26  away_player_5     24644 non-null  float64\n",
      " 27  away_player_6     24666 non-null  float64\n",
      " 28  away_player_7     24744 non-null  float64\n",
      " 29  away_player_8     24638 non-null  float64\n",
      " 30  away_player_9     24651 non-null  float64\n",
      " 31  away_player_10    24538 non-null  float64\n",
      " 32  away_player_11    24425 non-null  float64\n",
      " 33  B365H             22592 non-null  float64\n",
      " 34  B365D             22592 non-null  float64\n",
      " 35  B365A             22592 non-null  float64\n",
      " 36  BWH               22575 non-null  float64\n",
      " 37  BWD               22575 non-null  float64\n",
      " 38  BWA               22575 non-null  float64\n",
      " 39  IWH               22520 non-null  float64\n",
      " 40  IWD               22520 non-null  float64\n",
      " 41  IWA               22520 non-null  float64\n",
      " 42  LBH               22556 non-null  float64\n",
      " 43  LBD               22556 non-null  float64\n",
      " 44  LBA               22556 non-null  float64\n",
      " 45  PSH               11168 non-null  float64\n",
      " 46  PSD               11168 non-null  float64\n",
      " 47  PSA               11168 non-null  float64\n",
      " 48  WHH               22571 non-null  float64\n",
      " 49  WHD               22571 non-null  float64\n",
      " 50  WHA               22571 non-null  float64\n",
      " 51  SJH               17097 non-null  float64\n",
      " 52  SJD               17097 non-null  float64\n",
      " 53  SJA               17097 non-null  float64\n",
      " 54  VCH               22568 non-null  float64\n",
      " 55  VCD               22568 non-null  float64\n",
      " 56  VCA               22568 non-null  float64\n",
      " 57  GBH               14162 non-null  float64\n",
      " 58  GBD               14162 non-null  float64\n",
      " 59  GBA               14162 non-null  float64\n",
      " 60  BSH               14161 non-null  float64\n",
      " 61  BSD               14161 non-null  float64\n",
      " 62  BSA               14161 non-null  float64\n",
      "dtypes: float64(52), int64(7), object(4)\n",
      "memory usage: 12.5+ MB\n"
     ]
    }
   ],
   "execution_count": 26
  },
  {
   "metadata": {},
   "cell_type": "markdown",
   "source": "Приведем типы",
   "id": "d751c630ccc922f1"
  },
  {
   "metadata": {
    "ExecuteTime": {
     "end_time": "2024-05-09T13:15:52.926571Z",
     "start_time": "2024-05-09T13:15:52.907885Z"
    }
   },
   "cell_type": "code",
   "source": "matches['date'] = matches['date'].astype('datetime64[ns]')",
   "id": "4c082f225c953b8f",
   "outputs": [],
   "execution_count": 27
  },
  {
   "metadata": {
    "ExecuteTime": {
     "end_time": "2024-05-09T13:15:52.937768Z",
     "start_time": "2024-05-09T13:15:52.928584Z"
    }
   },
   "cell_type": "code",
   "source": "matches['match_year'] = matches['date'].dt.year",
   "id": "55da01674d1ebb6e",
   "outputs": [],
   "execution_count": 28
  },
  {
   "metadata": {},
   "cell_type": "markdown",
   "source": "Выясним кол-во пустых значений в столбцах",
   "id": "5307ed729066f12d"
  },
  {
   "metadata": {
    "ExecuteTime": {
     "end_time": "2024-05-09T13:15:52.957229Z",
     "start_time": "2024-05-09T13:15:52.939780Z"
    }
   },
   "cell_type": "code",
   "source": [
    "missing_matches_values = matches.isnull().sum()\n",
    "missing_matches_percentage = (missing_matches_values / matches.shape[0]) * 100\n",
    "missing_matches_percentage.sort_values(ascending=False)"
   ],
   "id": "f13069aa5f18691d",
   "outputs": [
    {
     "data": {
      "text/plain": [
       "PSD            57.011432\n",
       "PSA            57.011432\n",
       "PSH            57.011432\n",
       "BSA            45.490589\n",
       "BSD            45.490589\n",
       "                 ...    \n",
       "date            0.000000\n",
       "stage           0.000000\n",
       "season          0.000000\n",
       "league_name     0.000000\n",
       "match_year      0.000000\n",
       "Length: 64, dtype: float64"
      ]
     },
     "execution_count": 29,
     "metadata": {},
     "output_type": "execute_result"
    }
   ],
   "execution_count": 29
  },
  {
   "metadata": {},
   "cell_type": "markdown",
   "source": "Удалим строки, которые содержат Null значения в ставках во всей строке",
   "id": "2c4534159a8a052b"
  },
  {
   "metadata": {
    "ExecuteTime": {
     "end_time": "2024-05-09T13:15:52.984310Z",
     "start_time": "2024-05-09T13:15:52.959236Z"
    }
   },
   "cell_type": "code",
   "source": [
    "rows_to_drop_h = matches.filter(regex='^\\w{2}H$').isnull().all(axis=1)\n",
    "rows_to_drop_d = matches.filter(regex='^\\w{2}D$').isnull().all(axis=1)\n",
    "rows_to_drop_a = matches.filter(regex='^\\w{2}A$').isnull().all(axis=1)\n",
    "\n",
    "rows_to_drop = rows_to_drop_h | rows_to_drop_d | rows_to_drop_a\n",
    "\n",
    "matches.drop(matches[rows_to_drop].index, inplace=True)"
   ],
   "id": "9023b89f25669a17",
   "outputs": [],
   "execution_count": 30
  },
  {
   "metadata": {},
   "cell_type": "markdown",
   "source": "Посчитаем среднее значение ставок на матч",
   "id": "a983d489e642ee87"
  },
  {
   "metadata": {
    "ExecuteTime": {
     "end_time": "2024-05-09T13:15:53.019055Z",
     "start_time": "2024-05-09T13:15:52.986319Z"
    }
   },
   "cell_type": "code",
   "source": [
    "matches['avg_bet_home'] = matches.filter(regex='^\\w{2}H$').mean(axis=1).round(2)\n",
    "matches['avg_bet_draw'] = matches.filter(regex='^\\w{2}D$').mean(axis=1).round(2)\n",
    "matches['avg_bet_away'] = matches.filter(regex='^\\w{2}A$').mean(axis=1).round(2)"
   ],
   "id": "5ae2b24eea8c02b9",
   "outputs": [],
   "execution_count": 31
  },
  {
   "metadata": {},
   "cell_type": "markdown",
   "source": "## Result Dataset",
   "id": "f49aa5f726e97c03"
  },
  {
   "metadata": {},
   "cell_type": "markdown",
   "source": "Объединим datasets matches & teams по двум полям, чтобы данные были актуальны на период времени",
   "id": "1939eeaa819552f6"
  },
  {
   "metadata": {
    "ExecuteTime": {
     "end_time": "2024-05-09T13:15:53.084048Z",
     "start_time": "2024-05-09T13:15:53.030059Z"
    }
   },
   "cell_type": "code",
   "source": [
    "df = matches.merge(teams, how='left',\n",
    "                   left_on=['home_team_api_id', 'match_year'],\n",
    "                   right_on=['team_api_id', 'team_year']) \\\n",
    "    .merge(\n",
    "    teams, how='left', left_on=['away_team_api_id', 'match_year'], right_on=['team_api_id', 'team_year'],\n",
    "    suffixes=('_home', '_away')).rename(\n",
    "    columns={'team_score_home': 'home_team_score', 'team_score_away': 'away_team_score'})"
   ],
   "id": "1808d1de23769165",
   "outputs": [],
   "execution_count": 33
  },
  {
   "metadata": {},
   "cell_type": "markdown",
   "source": "Удалим наблюдения, которые не сможем использовать в обучении модели из-за отсутствия данных.",
   "id": "e4d328f2be1c1132"
  },
  {
   "metadata": {
    "ExecuteTime": {
     "end_time": "2024-05-09T13:15:53.120843Z",
     "start_time": "2024-05-09T13:15:53.087057Z"
    }
   },
   "cell_type": "code",
   "source": [
    "player_columns = [col for col in matches.columns if 'home_player_' in col or 'away_player_' in col]\n",
    "\n",
    "df.dropna(subset=['team_long_name_away', 'team_long_name_home'], inplace=True)\n",
    "df.dropna(subset=player_columns, inplace=True)"
   ],
   "id": "5926580b16dd1013",
   "outputs": [],
   "execution_count": 34
  },
  {
   "metadata": {},
   "cell_type": "markdown",
   "source": "Внесем данные из dataset players в Общий dataset и посчитаем средний рейтинг игроков в матче",
   "id": "85a987df2b999409"
  },
  {
   "metadata": {
    "ExecuteTime": {
     "end_time": "2024-05-09T13:16:04.236409Z",
     "start_time": "2024-05-09T13:15:53.122850Z"
    }
   },
   "cell_type": "code",
   "source": [
    "home_player_columns = [col for col in matches.columns if 'home_player' in col]\n",
    "away_player_columns = [col for col in matches.columns if 'away_player' in col]\n",
    "\n",
    "rating_score_dict = players.set_index(['player_api_id', 'player_year'])[['overall_rating', 'player_score']].apply(tuple,\n",
    "                                                                                                                  axis=1).to_dict()\n",
    "\n",
    "for column in player_columns:\n",
    "    df[column + '_rating'] = df.apply(\n",
    "        lambda row: rating_score_dict.get((row[column], row['match_year']), (None, None))[0], axis=1)\n",
    "    df[column + '_score'] = df.apply(\n",
    "        lambda row: rating_score_dict.get((row[column], row['match_year']), (None, None))[1], axis=1)\n",
    "\n",
    "df['home_players_average_rating'] = df[[col + '_rating' for col in player_columns if 'home' in col]].mean(\n",
    "    axis=1).round(2)\n",
    "df['away_players_average_rating'] = df[[col + '_rating' for col in player_columns if 'away' in col]].mean(\n",
    "    axis=1).round(2)\n",
    "df['home_players_average_score'] = df[[col + '_score' for col in player_columns if 'home' in col]].mean(axis=1).round(\n",
    "    2)\n",
    "df['away_players_average_score'] = df[[col + '_score' for col in player_columns if 'away' in col]].mean(axis=1).round(\n",
    "    2)\n",
    "\n",
    "df.drop(columns=[col + '_rating' for col in player_columns] + [col + '_score' for col in player_columns], inplace=True)"
   ],
   "id": "16caf1e435f7366",
   "outputs": [],
   "execution_count": 35
  },
  {
   "metadata": {},
   "cell_type": "markdown",
   "source": "Создадим атрибут, показывающий результат матча. 0 - ничья, -1 проигрыш домашней команды, 1 - выйгрыш домашней команды",
   "id": "35591eb65d6391e3"
  },
  {
   "metadata": {
    "ExecuteTime": {
     "end_time": "2024-05-09T13:16:04.251319Z",
     "start_time": "2024-05-09T13:16:04.238418Z"
    }
   },
   "cell_type": "code",
   "source": "df['match_result'] = (df['home_team_goal'] - df['away_team_goal']).apply(lambda x: 1 if x > 0 else (-1 if x < 0 else 0))",
   "id": "f58d70887003975b",
   "outputs": [],
   "execution_count": 36
  },
  {
   "metadata": {},
   "cell_type": "markdown",
   "source": "Выберем нужные данные и сохраним в файл",
   "id": "e6ee88c357929fa1"
  },
  {
   "metadata": {
    "ExecuteTime": {
     "end_time": "2024-05-09T13:16:04.457898Z",
     "start_time": "2024-05-09T13:16:04.265574Z"
    }
   },
   "cell_type": "code",
   "source": [
    "df[['date', 'season', 'team_long_name_home', 'team_short_name_home', 'team_short_name_away',\n",
    "    'team_long_name_away',\n",
    "    'home_team_goal', 'away_team_goal', 'match_result',\n",
    "    'home_players_average_rating',\n",
    "    'away_players_average_rating', 'home_players_average_score', 'away_players_average_score', 'away_team_score',\n",
    "    'home_team_score', 'avg_bet_home', 'avg_bet_draw', 'avg_bet_away']].to_csv('./src/final_dataset.csv', index=False)"
   ],
   "id": "6e884263238a8b75",
   "outputs": [],
   "execution_count": 38
  }
 ],
 "metadata": {
  "kernelspec": {
   "display_name": "Python 3",
   "language": "python",
   "name": "python3"
  },
  "language_info": {
   "codemirror_mode": {
    "name": "ipython",
    "version": 2
   },
   "file_extension": ".py",
   "mimetype": "text/x-python",
   "name": "python",
   "nbconvert_exporter": "python",
   "pygments_lexer": "ipython2",
   "version": "2.7.6"
  }
 },
 "nbformat": 4,
 "nbformat_minor": 5
}
