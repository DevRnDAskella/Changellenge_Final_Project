{
 "cells": [
  {
   "metadata": {},
   "cell_type": "markdown",
   "source": "## Imports and Defines",
   "id": "e2e5b16734e97ecd"
  },
  {
   "metadata": {
    "ExecuteTime": {
     "end_time": "2024-05-05T09:39:51.309571Z",
     "start_time": "2024-05-05T09:39:51.303739Z"
    }
   },
   "cell_type": "code",
   "source": [
    "import pandas as pd\n",
    "import seaborn as sns\n",
    "import matplotlib.pyplot as plt\n",
    "import warnings\n",
    "\n",
    "warnings.filterwarnings('ignore')"
   ],
   "id": "initial_id",
   "outputs": [],
   "execution_count": 108
  },
  {
   "metadata": {
    "ExecuteTime": {
     "end_time": "2024-05-05T09:39:55.506827Z",
     "start_time": "2024-05-05T09:39:51.461543Z"
    }
   },
   "cell_type": "code",
   "source": [
    "teams = pd.read_csv('./src/teams.csv')\n",
    "players = pd.read_csv('./src/players.csv')\n",
    "matches = pd.read_csv('./src/matches.csv')"
   ],
   "id": "38791960345c2d07",
   "outputs": [],
   "execution_count": 109
  },
  {
   "metadata": {},
   "cell_type": "markdown",
   "source": "## Players Dataset",
   "id": "351c5d8a69d901bc"
  },
  {
   "metadata": {},
   "cell_type": "markdown",
   "source": "Посмотрим на данные в таблице Players",
   "id": "e1c3cc41a323862f"
  },
  {
   "metadata": {
    "ExecuteTime": {
     "end_time": "2024-05-05T09:39:55.532116Z",
     "start_time": "2024-05-05T09:39:55.508833Z"
    }
   },
   "cell_type": "code",
   "source": "players.head(4)",
   "id": "9d759bd6dd1bcbcf",
   "outputs": [
    {
     "data": {
      "text/plain": [
       "   player_api_id         player_name             birthday  \\\n",
       "0         505942  Aaron Appindangoye  1992-02-29 00:00:00   \n",
       "1         505942  Aaron Appindangoye  1992-02-29 00:00:00   \n",
       "2         505942  Aaron Appindangoye  1992-02-29 00:00:00   \n",
       "3         505942  Aaron Appindangoye  1992-02-29 00:00:00   \n",
       "\n",
       "                  date  overall_rating  potential preferred_foot  \\\n",
       "0  2016-02-18 00:00:00            67.0       71.0          right   \n",
       "1  2015-11-19 00:00:00            67.0       71.0          right   \n",
       "2  2015-09-21 00:00:00            62.0       66.0          right   \n",
       "3  2015-03-20 00:00:00            61.0       65.0          right   \n",
       "\n",
       "  attacking_work_rate defensive_work_rate  crossing  ...  vision  penalties  \\\n",
       "0              medium              medium      49.0  ...    54.0       48.0   \n",
       "1              medium              medium      49.0  ...    54.0       48.0   \n",
       "2              medium              medium      49.0  ...    54.0       48.0   \n",
       "3              medium              medium      48.0  ...    53.0       47.0   \n",
       "\n",
       "   marking  standing_tackle  sliding_tackle  gk_diving  gk_handling  \\\n",
       "0     65.0             69.0            69.0        6.0         11.0   \n",
       "1     65.0             69.0            69.0        6.0         11.0   \n",
       "2     65.0             66.0            69.0        6.0         11.0   \n",
       "3     62.0             63.0            66.0        5.0         10.0   \n",
       "\n",
       "   gk_kicking  gk_positioning  gk_reflexes  \n",
       "0        10.0             8.0          8.0  \n",
       "1        10.0             8.0          8.0  \n",
       "2        10.0             8.0          8.0  \n",
       "3         9.0             7.0          7.0  \n",
       "\n",
       "[4 rows x 42 columns]"
      ],
      "text/html": [
       "<div>\n",
       "<style scoped>\n",
       "    .dataframe tbody tr th:only-of-type {\n",
       "        vertical-align: middle;\n",
       "    }\n",
       "\n",
       "    .dataframe tbody tr th {\n",
       "        vertical-align: top;\n",
       "    }\n",
       "\n",
       "    .dataframe thead th {\n",
       "        text-align: right;\n",
       "    }\n",
       "</style>\n",
       "<table border=\"1\" class=\"dataframe\">\n",
       "  <thead>\n",
       "    <tr style=\"text-align: right;\">\n",
       "      <th></th>\n",
       "      <th>player_api_id</th>\n",
       "      <th>player_name</th>\n",
       "      <th>birthday</th>\n",
       "      <th>date</th>\n",
       "      <th>overall_rating</th>\n",
       "      <th>potential</th>\n",
       "      <th>preferred_foot</th>\n",
       "      <th>attacking_work_rate</th>\n",
       "      <th>defensive_work_rate</th>\n",
       "      <th>crossing</th>\n",
       "      <th>...</th>\n",
       "      <th>vision</th>\n",
       "      <th>penalties</th>\n",
       "      <th>marking</th>\n",
       "      <th>standing_tackle</th>\n",
       "      <th>sliding_tackle</th>\n",
       "      <th>gk_diving</th>\n",
       "      <th>gk_handling</th>\n",
       "      <th>gk_kicking</th>\n",
       "      <th>gk_positioning</th>\n",
       "      <th>gk_reflexes</th>\n",
       "    </tr>\n",
       "  </thead>\n",
       "  <tbody>\n",
       "    <tr>\n",
       "      <th>0</th>\n",
       "      <td>505942</td>\n",
       "      <td>Aaron Appindangoye</td>\n",
       "      <td>1992-02-29 00:00:00</td>\n",
       "      <td>2016-02-18 00:00:00</td>\n",
       "      <td>67.0</td>\n",
       "      <td>71.0</td>\n",
       "      <td>right</td>\n",
       "      <td>medium</td>\n",
       "      <td>medium</td>\n",
       "      <td>49.0</td>\n",
       "      <td>...</td>\n",
       "      <td>54.0</td>\n",
       "      <td>48.0</td>\n",
       "      <td>65.0</td>\n",
       "      <td>69.0</td>\n",
       "      <td>69.0</td>\n",
       "      <td>6.0</td>\n",
       "      <td>11.0</td>\n",
       "      <td>10.0</td>\n",
       "      <td>8.0</td>\n",
       "      <td>8.0</td>\n",
       "    </tr>\n",
       "    <tr>\n",
       "      <th>1</th>\n",
       "      <td>505942</td>\n",
       "      <td>Aaron Appindangoye</td>\n",
       "      <td>1992-02-29 00:00:00</td>\n",
       "      <td>2015-11-19 00:00:00</td>\n",
       "      <td>67.0</td>\n",
       "      <td>71.0</td>\n",
       "      <td>right</td>\n",
       "      <td>medium</td>\n",
       "      <td>medium</td>\n",
       "      <td>49.0</td>\n",
       "      <td>...</td>\n",
       "      <td>54.0</td>\n",
       "      <td>48.0</td>\n",
       "      <td>65.0</td>\n",
       "      <td>69.0</td>\n",
       "      <td>69.0</td>\n",
       "      <td>6.0</td>\n",
       "      <td>11.0</td>\n",
       "      <td>10.0</td>\n",
       "      <td>8.0</td>\n",
       "      <td>8.0</td>\n",
       "    </tr>\n",
       "    <tr>\n",
       "      <th>2</th>\n",
       "      <td>505942</td>\n",
       "      <td>Aaron Appindangoye</td>\n",
       "      <td>1992-02-29 00:00:00</td>\n",
       "      <td>2015-09-21 00:00:00</td>\n",
       "      <td>62.0</td>\n",
       "      <td>66.0</td>\n",
       "      <td>right</td>\n",
       "      <td>medium</td>\n",
       "      <td>medium</td>\n",
       "      <td>49.0</td>\n",
       "      <td>...</td>\n",
       "      <td>54.0</td>\n",
       "      <td>48.0</td>\n",
       "      <td>65.0</td>\n",
       "      <td>66.0</td>\n",
       "      <td>69.0</td>\n",
       "      <td>6.0</td>\n",
       "      <td>11.0</td>\n",
       "      <td>10.0</td>\n",
       "      <td>8.0</td>\n",
       "      <td>8.0</td>\n",
       "    </tr>\n",
       "    <tr>\n",
       "      <th>3</th>\n",
       "      <td>505942</td>\n",
       "      <td>Aaron Appindangoye</td>\n",
       "      <td>1992-02-29 00:00:00</td>\n",
       "      <td>2015-03-20 00:00:00</td>\n",
       "      <td>61.0</td>\n",
       "      <td>65.0</td>\n",
       "      <td>right</td>\n",
       "      <td>medium</td>\n",
       "      <td>medium</td>\n",
       "      <td>48.0</td>\n",
       "      <td>...</td>\n",
       "      <td>53.0</td>\n",
       "      <td>47.0</td>\n",
       "      <td>62.0</td>\n",
       "      <td>63.0</td>\n",
       "      <td>66.0</td>\n",
       "      <td>5.0</td>\n",
       "      <td>10.0</td>\n",
       "      <td>9.0</td>\n",
       "      <td>7.0</td>\n",
       "      <td>7.0</td>\n",
       "    </tr>\n",
       "  </tbody>\n",
       "</table>\n",
       "<p>4 rows × 42 columns</p>\n",
       "</div>"
      ]
     },
     "execution_count": 110,
     "metadata": {},
     "output_type": "execute_result"
    }
   ],
   "execution_count": 110
  },
  {
   "metadata": {
    "ExecuteTime": {
     "end_time": "2024-05-05T09:39:55.591905Z",
     "start_time": "2024-05-05T09:39:55.534126Z"
    }
   },
   "cell_type": "code",
   "source": "players.info()",
   "id": "32d36b3897a8d4aa",
   "outputs": [
    {
     "name": "stdout",
     "output_type": "stream",
     "text": [
      "<class 'pandas.core.frame.DataFrame'>\n",
      "RangeIndex: 183978 entries, 0 to 183977\n",
      "Data columns (total 42 columns):\n",
      " #   Column               Non-Null Count   Dtype  \n",
      "---  ------               --------------   -----  \n",
      " 0   player_api_id        183978 non-null  int64  \n",
      " 1   player_name          183978 non-null  object \n",
      " 2   birthday             183978 non-null  object \n",
      " 3   date                 183978 non-null  object \n",
      " 4   overall_rating       183142 non-null  float64\n",
      " 5   potential            183142 non-null  float64\n",
      " 6   preferred_foot       183142 non-null  object \n",
      " 7   attacking_work_rate  177109 non-null  object \n",
      " 8   defensive_work_rate  183142 non-null  object \n",
      " 9   crossing             183142 non-null  float64\n",
      " 10  finishing            183142 non-null  float64\n",
      " 11  heading_accuracy     183142 non-null  float64\n",
      " 12  short_passing        183142 non-null  float64\n",
      " 13  volleys              181265 non-null  float64\n",
      " 14  dribbling            183142 non-null  float64\n",
      " 15  curve                181265 non-null  float64\n",
      " 16  free_kick_accuracy   183142 non-null  float64\n",
      " 17  long_passing         183142 non-null  float64\n",
      " 18  ball_control         183142 non-null  float64\n",
      " 19  acceleration         183142 non-null  float64\n",
      " 20  sprint_speed         183142 non-null  float64\n",
      " 21  agility              181265 non-null  float64\n",
      " 22  reactions            183142 non-null  float64\n",
      " 23  balance              181265 non-null  float64\n",
      " 24  shot_power           183142 non-null  float64\n",
      " 25  jumping              181265 non-null  float64\n",
      " 26  stamina              183142 non-null  float64\n",
      " 27  strength             183142 non-null  float64\n",
      " 28  long_shots           183142 non-null  float64\n",
      " 29  aggression           183142 non-null  float64\n",
      " 30  interceptions        183142 non-null  float64\n",
      " 31  positioning          183142 non-null  float64\n",
      " 32  vision               181265 non-null  float64\n",
      " 33  penalties            183142 non-null  float64\n",
      " 34  marking              183142 non-null  float64\n",
      " 35  standing_tackle      183142 non-null  float64\n",
      " 36  sliding_tackle       181265 non-null  float64\n",
      " 37  gk_diving            183142 non-null  float64\n",
      " 38  gk_handling          183142 non-null  float64\n",
      " 39  gk_kicking           183142 non-null  float64\n",
      " 40  gk_positioning       183142 non-null  float64\n",
      " 41  gk_reflexes          183142 non-null  float64\n",
      "dtypes: float64(35), int64(1), object(6)\n",
      "memory usage: 59.0+ MB\n"
     ]
    }
   ],
   "execution_count": 111
  },
  {
   "metadata": {},
   "cell_type": "markdown",
   "source": "Приведем типы данных",
   "id": "dc84b44dc28bff19"
  },
  {
   "metadata": {
    "ExecuteTime": {
     "end_time": "2024-05-05T09:39:55.656747Z",
     "start_time": "2024-05-05T09:39:55.593920Z"
    }
   },
   "cell_type": "code",
   "source": [
    "players['date'] = players['date'].astype('datetime64[ns]')\n",
    "players['birthday'] = players['birthday'].astype('datetime64[ns]')"
   ],
   "id": "efe63c99239ef2ef",
   "outputs": [],
   "execution_count": 112
  },
  {
   "metadata": {},
   "cell_type": "markdown",
   "source": "Проверим на некорректные данные (< 0 и > 100)",
   "id": "36770e5b3e4ae541"
  },
  {
   "metadata": {
    "ExecuteTime": {
     "end_time": "2024-05-05T09:39:55.712031Z",
     "start_time": "2024-05-05T09:39:55.660776Z"
    }
   },
   "cell_type": "code",
   "source": [
    "players_score = players.select_dtypes(include='float64')\n",
    "players_score_columns = players.select_dtypes(include='float64').columns\n",
    "((players_score < 0).any().sum(), (players_score > 100).any().sum())"
   ],
   "id": "fba60dd5adb25fb8",
   "outputs": [
    {
     "data": {
      "text/plain": [
       "(0, 0)"
      ]
     },
     "execution_count": 113,
     "metadata": {},
     "output_type": "execute_result"
    }
   ],
   "execution_count": 113
  },
  {
   "metadata": {},
   "cell_type": "markdown",
   "source": "*Все данные в допустимом диапазоне*",
   "id": "fbb23a63d1b207bb"
  },
  {
   "metadata": {},
   "cell_type": "markdown",
   "source": "Оставим только самые последние данные по каждому игроку",
   "id": "d25f6058bfac06d1"
  },
  {
   "metadata": {
    "ExecuteTime": {
     "end_time": "2024-05-05T09:39:55.782557Z",
     "start_time": "2024-05-05T09:39:55.714039Z"
    }
   },
   "cell_type": "code",
   "source": [
    "players['rnk'] = players.groupby('player_api_id')['date'].rank(method='first', ascending=False)\n",
    "players.query('rnk == 1', inplace=True)"
   ],
   "id": "64ca35151c72459c",
   "outputs": [],
   "execution_count": 114
  },
  {
   "metadata": {},
   "cell_type": "markdown",
   "source": "Отделим goalkeepers от других игроков",
   "id": "9c9fd2e3e735198f"
  },
  {
   "metadata": {
    "ExecuteTime": {
     "end_time": "2024-05-05T09:39:56.689176Z",
     "start_time": "2024-05-05T09:39:55.783567Z"
    }
   },
   "cell_type": "code",
   "source": [
    "players_gk_columns = [col for col in players_score_columns if col.startswith('gk_')]\n",
    "players_non_gk_columns = players_score_columns.difference(players_gk_columns)\n",
    "\n",
    "plt.figure(figsize=(10, 6))\n",
    "\n",
    "for column in players_gk_columns:\n",
    "    sns.histplot(players[column], bins=30, kde=True, label=column)\n",
    "\n",
    "plt.title('Определим границу Score, отделяющей goalkeeper')\n",
    "plt.xlabel('Score')\n",
    "plt.ylabel('Частота')\n",
    "plt.legend()\n",
    "plt.show()"
   ],
   "id": "d690226c20c7fd00",
   "outputs": [
    {
     "data": {
      "text/plain": [
       "<Figure size 1000x600 with 1 Axes>"
      ],
      "image/png": "[encoded data removed]"
     },
     "metadata": {},
     "output_type": "display_data"
    }
   ],
   "execution_count": 115
  },
  {
   "metadata": {
    "ExecuteTime": {
     "end_time": "2024-05-05T09:39:56.699499Z",
     "start_time": "2024-05-05T09:39:56.691184Z"
    }
   },
   "cell_type": "code",
   "source": [
    "gk_criteria = 40\n",
    "players['is_gk'] = (players['gk_positioning'] > gk_criteria) & \\\n",
    "                   (players['gk_reflexes'] > gk_criteria) & \\\n",
    "                   (players['gk_diving'] > gk_criteria) & \\\n",
    "                   (players['gk_handling'] > gk_criteria)"
   ],
   "id": "685c7360c55935c6",
   "outputs": [],
   "execution_count": 116
  },
  {
   "metadata": {},
   "cell_type": "markdown",
   "source": "Проверим параметры на пропущенные значения",
   "id": "c0e0040c6da2d804"
  },
  {
   "metadata": {
    "ExecuteTime": {
     "end_time": "2024-05-05T09:39:56.716526Z",
     "start_time": "2024-05-05T09:39:56.701509Z"
    }
   },
   "cell_type": "code",
   "source": [
    "missing_players_values = players.select_dtypes(include='float').isnull().sum()\n",
    "missing_players_percentage = (missing_players_values / players.shape[0]) * 100\n",
    "missing_players_percentage.sort_values(ascending=False)"
   ],
   "id": "1dd0100df073668a",
   "outputs": [
    {
     "data": {
      "text/plain": [
       "jumping               4.321881\n",
       "balance               4.321881\n",
       "volleys               4.321881\n",
       "agility               4.321881\n",
       "curve                 4.321881\n",
       "sliding_tackle        4.321881\n",
       "vision                4.321881\n",
       "penalties             0.000000\n",
       "aggression            0.000000\n",
       "interceptions         0.000000\n",
       "positioning           0.000000\n",
       "standing_tackle       0.000000\n",
       "marking               0.000000\n",
       "strength              0.000000\n",
       "gk_diving             0.000000\n",
       "gk_handling           0.000000\n",
       "gk_kicking            0.000000\n",
       "gk_positioning        0.000000\n",
       "gk_reflexes           0.000000\n",
       "long_shots            0.000000\n",
       "overall_rating        0.000000\n",
       "stamina               0.000000\n",
       "potential             0.000000\n",
       "shot_power            0.000000\n",
       "reactions             0.000000\n",
       "sprint_speed          0.000000\n",
       "acceleration          0.000000\n",
       "ball_control          0.000000\n",
       "long_passing          0.000000\n",
       "free_kick_accuracy    0.000000\n",
       "dribbling             0.000000\n",
       "short_passing         0.000000\n",
       "heading_accuracy      0.000000\n",
       "finishing             0.000000\n",
       "crossing              0.000000\n",
       "rnk                   0.000000\n",
       "dtype: float64"
      ]
     },
     "execution_count": 117,
     "metadata": {},
     "output_type": "execute_result"
    }
   ],
   "execution_count": 117
  },
  {
   "metadata": {},
   "cell_type": "markdown",
   "source": "*Пропусков менее 5%*",
   "id": "b93308c2e4a62461"
  },
  {
   "metadata": {},
   "cell_type": "markdown",
   "source": " Заполним пропуски средним значением.",
   "id": "e8c90b47f948d9b3"
  },
  {
   "metadata": {
    "ExecuteTime": {
     "end_time": "2024-05-05T09:39:56.733383Z",
     "start_time": "2024-05-05T09:39:56.718545Z"
    }
   },
   "cell_type": "code",
   "source": [
    "players_columns_to_fill = missing_players_percentage[missing_players_percentage > 0].index\n",
    "mean_players_values = players[players_columns_to_fill].mean()\n",
    "players[players_columns_to_fill] = players[missing_players_percentage[missing_players_percentage > 0].index].fillna(\n",
    "    mean_players_values)"
   ],
   "id": "6b2d428c36d2d5e7",
   "outputs": [],
   "execution_count": 118
  },
  {
   "metadata": {},
   "cell_type": "markdown",
   "source": "Вычислим средний Score каждого игрока",
   "id": "98347087fbb1832b"
  },
  {
   "metadata": {
    "ExecuteTime": {
     "end_time": "2024-05-05T09:40:00.088041Z",
     "start_time": "2024-05-05T09:39:56.735391Z"
    }
   },
   "cell_type": "code",
   "source": [
    "def calculate_player_score(row):\n",
    "    if row['is_gk']:\n",
    "        return row[players_gk_columns].mean()\n",
    "    return row[players_non_gk_columns].mean()\n",
    "\n",
    "\n",
    "players['player_score'] = players.apply(calculate_player_score, axis=1)"
   ],
   "id": "ce73321721e2e7da",
   "outputs": [],
   "execution_count": 119
  },
  {
   "metadata": {},
   "cell_type": "markdown",
   "source": "Установим player_api_id как Index и оставим только нужные колонки. Так как используемая нами методология расчета player_score проще, чем предлагаемая в данных. То оставим обе. Для улучшения нашего метода можно: разделить на защитников/нападающих/полузащитников, также использовать категориальные переменные.",
   "id": "e8230b05a75a0f"
  },
  {
   "metadata": {
    "ExecuteTime": {
     "end_time": "2024-05-05T09:40:00.104560Z",
     "start_time": "2024-05-05T09:40:00.089606Z"
    }
   },
   "cell_type": "code",
   "source": [
    "players.set_index('player_api_id', inplace=True)\n",
    "players = players[['player_name', 'overall_rating','player_score']]\n",
    "\n",
    "players.head(2)"
   ],
   "id": "2ccdcd8a226c9633",
   "outputs": [
    {
     "data": {
      "text/plain": [
       "                      player_name  overall_rating  player_score\n",
       "player_api_id                                                  \n",
       "505942         Aaron Appindangoye            67.0          57.3\n",
       "155782            Aaron Cresswell            74.0          69.9"
      ],
      "text/html": [
       "<div>\n",
       "<style scoped>\n",
       "    .dataframe tbody tr th:only-of-type {\n",
       "        vertical-align: middle;\n",
       "    }\n",
       "\n",
       "    .dataframe tbody tr th {\n",
       "        vertical-align: top;\n",
       "    }\n",
       "\n",
       "    .dataframe thead th {\n",
       "        text-align: right;\n",
       "    }\n",
       "</style>\n",
       "<table border=\"1\" class=\"dataframe\">\n",
       "  <thead>\n",
       "    <tr style=\"text-align: right;\">\n",
       "      <th></th>\n",
       "      <th>player_name</th>\n",
       "      <th>overall_rating</th>\n",
       "      <th>player_score</th>\n",
       "    </tr>\n",
       "    <tr>\n",
       "      <th>player_api_id</th>\n",
       "      <th></th>\n",
       "      <th></th>\n",
       "      <th></th>\n",
       "    </tr>\n",
       "  </thead>\n",
       "  <tbody>\n",
       "    <tr>\n",
       "      <th>505942</th>\n",
       "      <td>Aaron Appindangoye</td>\n",
       "      <td>67.0</td>\n",
       "      <td>57.3</td>\n",
       "    </tr>\n",
       "    <tr>\n",
       "      <th>155782</th>\n",
       "      <td>Aaron Cresswell</td>\n",
       "      <td>74.0</td>\n",
       "      <td>69.9</td>\n",
       "    </tr>\n",
       "  </tbody>\n",
       "</table>\n",
       "</div>"
      ]
     },
     "execution_count": 120,
     "metadata": {},
     "output_type": "execute_result"
    }
   ],
   "execution_count": 120
  },
  {
   "metadata": {},
   "cell_type": "markdown",
   "source": "## Teams Dataset",
   "id": "84c5d54709e76b6e"
  },
  {
   "metadata": {},
   "cell_type": "markdown",
   "source": "Посмотрим на данные в Teams Dataset",
   "id": "599e55b8edfc654d"
  },
  {
   "metadata": {
    "ExecuteTime": {
     "end_time": "2024-05-05T09:40:00.143361Z",
     "start_time": "2024-05-05T09:40:00.126094Z"
    }
   },
   "cell_type": "code",
   "source": "teams.head(4)",
   "id": "2b613c6493d9e2c2",
   "outputs": [
    {
     "data": {
      "text/plain": [
       "   team_api_id team_long_name team_short_name defenceTeamWidthClass  \\\n",
       "0         9930       FC Aarau             AAR                Normal   \n",
       "1         9930       FC Aarau             AAR                Normal   \n",
       "2         9930       FC Aarau             AAR                Normal   \n",
       "3         8485       Aberdeen             ABE                  Wide   \n",
       "\n",
       "   defenceTeamWidth defencePressureClass  defencePressure  \\\n",
       "0                45               Medium               50   \n",
       "1                54               Medium               47   \n",
       "2                54               Medium               47   \n",
       "3                70               Medium               60   \n",
       "\n",
       "  defenceDefenderLineClass defenceAggressionClass  defenceAggression  ...  \\\n",
       "0                    Cover                  Press                 55  ...   \n",
       "1                    Cover                  Press                 44  ...   \n",
       "2                    Cover                  Press                 44  ...   \n",
       "3                    Cover                 Double                 70  ...   \n",
       "\n",
       "  chanceCreationPassing chanceCreationCrossingClass  chanceCreationCrossing  \\\n",
       "0                    60                      Normal                      65   \n",
       "1                    54                      Normal                      63   \n",
       "2                    54                      Normal                      63   \n",
       "3                    70                        Lots                      70   \n",
       "\n",
       "  buildUpPlaySpeedClass buildUpPlaySpeed  buildUpPlayPositioningClass  \\\n",
       "0              Balanced               60                    Organised   \n",
       "1              Balanced               52                    Organised   \n",
       "2              Balanced               47                    Organised   \n",
       "3                  Fast               70                    Organised   \n",
       "\n",
       "  buildUpPlayPassingClass  buildUpPlayPassing buildUpPlayDribblingClass  \\\n",
       "0                   Mixed                  50                    Little   \n",
       "1                   Mixed                  56                    Normal   \n",
       "2                   Mixed                  54                    Normal   \n",
       "3                    Long                  70                    Little   \n",
       "\n",
       "   buildUpPlayDribbling  \n",
       "0                   NaN  \n",
       "1                  48.0  \n",
       "2                  41.0  \n",
       "3                   NaN  \n",
       "\n",
       "[4 rows x 25 columns]"
      ],
      "text/html": [
       "<div>\n",
       "<style scoped>\n",
       "    .dataframe tbody tr th:only-of-type {\n",
       "        vertical-align: middle;\n",
       "    }\n",
       "\n",
       "    .dataframe tbody tr th {\n",
       "        vertical-align: top;\n",
       "    }\n",
       "\n",
       "    .dataframe thead th {\n",
       "        text-align: right;\n",
       "    }\n",
       "</style>\n",
       "<table border=\"1\" class=\"dataframe\">\n",
       "  <thead>\n",
       "    <tr style=\"text-align: right;\">\n",
       "      <th></th>\n",
       "      <th>team_api_id</th>\n",
       "      <th>team_long_name</th>\n",
       "      <th>team_short_name</th>\n",
       "      <th>defenceTeamWidthClass</th>\n",
       "      <th>defenceTeamWidth</th>\n",
       "      <th>defencePressureClass</th>\n",
       "      <th>defencePressure</th>\n",
       "      <th>defenceDefenderLineClass</th>\n",
       "      <th>defenceAggressionClass</th>\n",
       "      <th>defenceAggression</th>\n",
       "      <th>...</th>\n",
       "      <th>chanceCreationPassing</th>\n",
       "      <th>chanceCreationCrossingClass</th>\n",
       "      <th>chanceCreationCrossing</th>\n",
       "      <th>buildUpPlaySpeedClass</th>\n",
       "      <th>buildUpPlaySpeed</th>\n",
       "      <th>buildUpPlayPositioningClass</th>\n",
       "      <th>buildUpPlayPassingClass</th>\n",
       "      <th>buildUpPlayPassing</th>\n",
       "      <th>buildUpPlayDribblingClass</th>\n",
       "      <th>buildUpPlayDribbling</th>\n",
       "    </tr>\n",
       "  </thead>\n",
       "  <tbody>\n",
       "    <tr>\n",
       "      <th>0</th>\n",
       "      <td>9930</td>\n",
       "      <td>FC Aarau</td>\n",
       "      <td>AAR</td>\n",
       "      <td>Normal</td>\n",
       "      <td>45</td>\n",
       "      <td>Medium</td>\n",
       "      <td>50</td>\n",
       "      <td>Cover</td>\n",
       "      <td>Press</td>\n",
       "      <td>55</td>\n",
       "      <td>...</td>\n",
       "      <td>60</td>\n",
       "      <td>Normal</td>\n",
       "      <td>65</td>\n",
       "      <td>Balanced</td>\n",
       "      <td>60</td>\n",
       "      <td>Organised</td>\n",
       "      <td>Mixed</td>\n",
       "      <td>50</td>\n",
       "      <td>Little</td>\n",
       "      <td>NaN</td>\n",
       "    </tr>\n",
       "    <tr>\n",
       "      <th>1</th>\n",
       "      <td>9930</td>\n",
       "      <td>FC Aarau</td>\n",
       "      <td>AAR</td>\n",
       "      <td>Normal</td>\n",
       "      <td>54</td>\n",
       "      <td>Medium</td>\n",
       "      <td>47</td>\n",
       "      <td>Cover</td>\n",
       "      <td>Press</td>\n",
       "      <td>44</td>\n",
       "      <td>...</td>\n",
       "      <td>54</td>\n",
       "      <td>Normal</td>\n",
       "      <td>63</td>\n",
       "      <td>Balanced</td>\n",
       "      <td>52</td>\n",
       "      <td>Organised</td>\n",
       "      <td>Mixed</td>\n",
       "      <td>56</td>\n",
       "      <td>Normal</td>\n",
       "      <td>48.0</td>\n",
       "    </tr>\n",
       "    <tr>\n",
       "      <th>2</th>\n",
       "      <td>9930</td>\n",
       "      <td>FC Aarau</td>\n",
       "      <td>AAR</td>\n",
       "      <td>Normal</td>\n",
       "      <td>54</td>\n",
       "      <td>Medium</td>\n",
       "      <td>47</td>\n",
       "      <td>Cover</td>\n",
       "      <td>Press</td>\n",
       "      <td>44</td>\n",
       "      <td>...</td>\n",
       "      <td>54</td>\n",
       "      <td>Normal</td>\n",
       "      <td>63</td>\n",
       "      <td>Balanced</td>\n",
       "      <td>47</td>\n",
       "      <td>Organised</td>\n",
       "      <td>Mixed</td>\n",
       "      <td>54</td>\n",
       "      <td>Normal</td>\n",
       "      <td>41.0</td>\n",
       "    </tr>\n",
       "    <tr>\n",
       "      <th>3</th>\n",
       "      <td>8485</td>\n",
       "      <td>Aberdeen</td>\n",
       "      <td>ABE</td>\n",
       "      <td>Wide</td>\n",
       "      <td>70</td>\n",
       "      <td>Medium</td>\n",
       "      <td>60</td>\n",
       "      <td>Cover</td>\n",
       "      <td>Double</td>\n",
       "      <td>70</td>\n",
       "      <td>...</td>\n",
       "      <td>70</td>\n",
       "      <td>Lots</td>\n",
       "      <td>70</td>\n",
       "      <td>Fast</td>\n",
       "      <td>70</td>\n",
       "      <td>Organised</td>\n",
       "      <td>Long</td>\n",
       "      <td>70</td>\n",
       "      <td>Little</td>\n",
       "      <td>NaN</td>\n",
       "    </tr>\n",
       "  </tbody>\n",
       "</table>\n",
       "<p>4 rows × 25 columns</p>\n",
       "</div>"
      ]
     },
     "execution_count": 122,
     "metadata": {},
     "output_type": "execute_result"
    }
   ],
   "execution_count": 122
  },
  {
   "metadata": {
    "ExecuteTime": {
     "end_time": "2024-05-05T09:40:00.160202Z",
     "start_time": "2024-05-05T09:40:00.145385Z"
    }
   },
   "cell_type": "code",
   "source": "teams.info()",
   "id": "e83154d63aaa6e64",
   "outputs": [
    {
     "name": "stdout",
     "output_type": "stream",
     "text": [
      "<class 'pandas.core.frame.DataFrame'>\n",
      "RangeIndex: 1458 entries, 0 to 1457\n",
      "Data columns (total 25 columns):\n",
      " #   Column                          Non-Null Count  Dtype  \n",
      "---  ------                          --------------  -----  \n",
      " 0   team_api_id                     1458 non-null   int64  \n",
      " 1   team_long_name                  1458 non-null   object \n",
      " 2   team_short_name                 1458 non-null   object \n",
      " 3   defenceTeamWidthClass           1458 non-null   object \n",
      " 4   defenceTeamWidth                1458 non-null   int64  \n",
      " 5   defencePressureClass            1458 non-null   object \n",
      " 6   defencePressure                 1458 non-null   int64  \n",
      " 7   defenceDefenderLineClass        1458 non-null   object \n",
      " 8   defenceAggressionClass          1458 non-null   object \n",
      " 9   defenceAggression               1458 non-null   int64  \n",
      " 10  date                            1458 non-null   object \n",
      " 11  chanceCreationShootingClass     1458 non-null   object \n",
      " 12  chanceCreationShooting          1458 non-null   int64  \n",
      " 13  chanceCreationPositioningClass  1458 non-null   object \n",
      " 14  chanceCreationPassingClass      1458 non-null   object \n",
      " 15  chanceCreationPassing           1458 non-null   int64  \n",
      " 16  chanceCreationCrossingClass     1458 non-null   object \n",
      " 17  chanceCreationCrossing          1458 non-null   int64  \n",
      " 18  buildUpPlaySpeedClass           1458 non-null   object \n",
      " 19  buildUpPlaySpeed                1458 non-null   int64  \n",
      " 20  buildUpPlayPositioningClass     1458 non-null   object \n",
      " 21  buildUpPlayPassingClass         1458 non-null   object \n",
      " 22  buildUpPlayPassing              1458 non-null   int64  \n",
      " 23  buildUpPlayDribblingClass       1458 non-null   object \n",
      " 24  buildUpPlayDribbling            489 non-null    float64\n",
      "dtypes: float64(1), int64(9), object(15)\n",
      "memory usage: 284.9+ KB\n"
     ]
    }
   ],
   "execution_count": 123
  },
  {
   "metadata": {
    "ExecuteTime": {
     "end_time": "2024-05-05T09:40:00.170972Z",
     "start_time": "2024-05-05T09:40:00.162209Z"
    }
   },
   "cell_type": "code",
   "source": "teams['date'] = teams['date'].astype('datetime64[ns]')",
   "id": "a41c5501ea3a479",
   "outputs": [],
   "execution_count": 124
  },
  {
   "metadata": {
    "ExecuteTime": {
     "end_time": "2024-05-05T09:40:00.185610Z",
     "start_time": "2024-05-05T09:40:00.172979Z"
    }
   },
   "cell_type": "code",
   "source": [
    "missing_teams_values = teams.isnull().sum()\n",
    "missing_teams_percentage = (missing_teams_values / teams.shape[0]) * 100\n",
    "missing_teams_percentage.sort_values(ascending=False)"
   ],
   "id": "cb2961275e959c34",
   "outputs": [
    {
     "data": {
      "text/plain": [
       "buildUpPlayDribbling              66.460905\n",
       "chanceCreationPositioningClass     0.000000\n",
       "buildUpPlayDribblingClass          0.000000\n",
       "buildUpPlayPassing                 0.000000\n",
       "buildUpPlayPassingClass            0.000000\n",
       "buildUpPlayPositioningClass        0.000000\n",
       "buildUpPlaySpeed                   0.000000\n",
       "buildUpPlaySpeedClass              0.000000\n",
       "chanceCreationCrossing             0.000000\n",
       "chanceCreationCrossingClass        0.000000\n",
       "chanceCreationPassing              0.000000\n",
       "chanceCreationPassingClass         0.000000\n",
       "team_api_id                        0.000000\n",
       "team_long_name                     0.000000\n",
       "chanceCreationShootingClass        0.000000\n",
       "date                               0.000000\n",
       "defenceAggression                  0.000000\n",
       "defenceAggressionClass             0.000000\n",
       "defenceDefenderLineClass           0.000000\n",
       "defencePressure                    0.000000\n",
       "defencePressureClass               0.000000\n",
       "defenceTeamWidth                   0.000000\n",
       "defenceTeamWidthClass              0.000000\n",
       "team_short_name                    0.000000\n",
       "chanceCreationShooting             0.000000\n",
       "dtype: float64"
      ]
     },
     "execution_count": 125,
     "metadata": {},
     "output_type": "execute_result"
    }
   ],
   "execution_count": 125
  },
  {
   "metadata": {},
   "cell_type": "markdown",
   "source": "Удалим атрибуты, содержащие > 60% пропусков. Остальные атрибуты пропусков не имеют.",
   "id": "b20f834835f31ee8"
  },
  {
   "metadata": {
    "ExecuteTime": {
     "end_time": "2024-05-05T09:40:00.195670Z",
     "start_time": "2024-05-05T09:40:00.186636Z"
    }
   },
   "cell_type": "code",
   "source": [
    "teams_columns_to_drop = missing_teams_percentage[missing_teams_percentage > 60].index\n",
    "teams.drop(columns=teams_columns_to_drop, inplace=True)"
   ],
   "id": "cbcf4e1911088197",
   "outputs": [],
   "execution_count": 126
  },
  {
   "metadata": {},
   "cell_type": "markdown",
   "source": "## Matches Dataset",
   "id": "2d6793c201a63a61"
  },
  {
   "metadata": {
    "ExecuteTime": {
     "end_time": "2024-05-05T09:40:00.228716Z",
     "start_time": "2024-05-05T09:40:00.197679Z"
    }
   },
   "cell_type": "code",
   "source": [
    "missing_matches_values = matches.isnull().sum()\n",
    "missing_matches_percentage = (missing_matches_values / matches.shape[0]) * 100\n",
    "missing_matches_percentage.sort_values(ascending=False)"
   ],
   "id": "f13069aa5f18691d",
   "outputs": [
    {
     "data": {
      "text/plain": [
       "PSH            57.011432\n",
       "PSD            57.011432\n",
       "PSA            57.011432\n",
       "BSA            45.490589\n",
       "BSD            45.490589\n",
       "                 ...    \n",
       "date            0.000000\n",
       "stage           0.000000\n",
       "season          0.000000\n",
       "league_id       0.000000\n",
       "league_name     0.000000\n",
       "Length: 117, dtype: float64"
      ]
     },
     "execution_count": 127,
     "metadata": {},
     "output_type": "execute_result"
    }
   ],
   "execution_count": 127
  },
  {
   "metadata": {},
   "cell_type": "markdown",
   "source": "Имеем очень много пропусков в атрибутах. Удалим атрибуты с более, чем 30% пропусков.",
   "id": "196d98eeab9cc09"
  },
  {
   "metadata": {
    "ExecuteTime": {
     "end_time": "2024-05-05T09:40:00.288523Z",
     "start_time": "2024-05-05T09:40:00.230726Z"
    }
   },
   "cell_type": "code",
   "source": [
    "matches_columns_to_drop = missing_matches_percentage[missing_matches_percentage > 30].index\n",
    "matches.drop(columns=matches_columns_to_drop, inplace=True)"
   ],
   "id": "542685d38c1e8173",
   "outputs": [],
   "execution_count": 128
  },
  {
   "metadata": {
    "ExecuteTime": {
     "end_time": "2024-05-05T09:40:00.294950Z",
     "start_time": "2024-05-05T09:40:00.291529Z"
    }
   },
   "cell_type": "code",
   "source": "",
   "id": "f96c428364fdaa74",
   "outputs": [],
   "execution_count": 128
  }
 ],
 "metadata": {
  "kernelspec": {
   "display_name": "Python 3",
   "language": "python",
   "name": "python3"
  },
  "language_info": {
   "codemirror_mode": {
    "name": "ipython",
    "version": 2
   },
   "file_extension": ".py",
   "mimetype": "text/x-python",
   "name": "python",
   "nbconvert_exporter": "python",
   "pygments_lexer": "ipython2",
   "version": "2.7.6"
  }
 },
 "nbformat": 4,
 "nbformat_minor": 5
}
