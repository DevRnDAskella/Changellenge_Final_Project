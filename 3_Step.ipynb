{
 "cells": [
  {
   "metadata": {
    "ExecuteTime": {
     "end_time": "2024-05-09T16:07:59.123195Z",
     "start_time": "2024-05-09T16:07:59.118875Z"
    }
   },
   "cell_type": "code",
   "source": [
    "import pandas as pd\n",
    "\n",
    "from sklearn.metrics import accuracy_score, precision_score, recall_score\n",
    "from sklearn.linear_model import LogisticRegression\n",
    "from sklearn.model_selection import train_test_split\n",
    "from sklearn.multioutput import MultiOutputClassifier"
   ],
   "id": "9ef7cebc1af265a0",
   "outputs": [],
   "execution_count": 150
  },
  {
   "metadata": {
    "ExecuteTime": {
     "end_time": "2024-05-09T16:07:59.182824Z",
     "start_time": "2024-05-09T16:07:59.130209Z"
    }
   },
   "cell_type": "code",
   "source": "df = pd.read_csv('./src/final_dataset.csv')",
   "id": "25f5880af6973a21",
   "outputs": [],
   "execution_count": 151
  },
  {
   "metadata": {
    "ExecuteTime": {
     "end_time": "2024-05-09T16:07:59.190738Z",
     "start_time": "2024-05-09T16:07:59.184830Z"
    }
   },
   "cell_type": "code",
   "source": "df.columns",
   "id": "8ade28d538ae3fa1",
   "outputs": [
    {
     "data": {
      "text/plain": [
       "Index(['date', 'season', 'team_long_name_home', 'team_short_name_home',\n",
       "       'team_short_name_away', 'team_long_name_away', 'home_team_goal',\n",
       "       'away_team_goal', 'match_result', 'home_players_average_rating',\n",
       "       'away_players_average_rating', 'home_players_average_score',\n",
       "       'away_players_average_score', 'away_team_score', 'home_team_score',\n",
       "       'avg_bet_home', 'avg_bet_draw', 'avg_bet_away', 'match_result.1'],\n",
       "      dtype='object')"
      ]
     },
     "execution_count": 152,
     "metadata": {},
     "output_type": "execute_result"
    }
   ],
   "execution_count": 152
  },
  {
   "metadata": {
    "ExecuteTime": {
     "end_time": "2024-05-09T16:07:59.201963Z",
     "start_time": "2024-05-09T16:07:59.191748Z"
    }
   },
   "cell_type": "code",
   "source": "df_encoded = pd.get_dummies(df, columns=['match_result'])",
   "id": "b77086460de6b923",
   "outputs": [],
   "execution_count": 153
  },
  {
   "metadata": {},
   "cell_type": "markdown",
   "source": "Параметры для обучения",
   "id": "bd13b74f524cc21f"
  },
  {
   "metadata": {
    "ExecuteTime": {
     "end_time": "2024-05-09T16:07:59.207956Z",
     "start_time": "2024-05-09T16:07:59.202987Z"
    }
   },
   "cell_type": "code",
   "source": [
    "X = df[['home_team_score', 'away_team_score', 'home_players_average_rating', 'away_players_average_rating',\n",
    "        'home_players_average_score',\n",
    "        'away_players_average_score', 'avg_bet_home', 'avg_bet_draw',\n",
    "        'avg_bet_away']]"
   ],
   "id": "28e28cfd23f13d04",
   "outputs": [],
   "execution_count": 154
  },
  {
   "metadata": {
    "ExecuteTime": {
     "end_time": "2024-05-09T16:07:59.215764Z",
     "start_time": "2024-05-09T16:07:59.209966Z"
    }
   },
   "cell_type": "code",
   "source": "y = df_encoded[['match_result_Home Win', 'match_result_Away Win', 'match_result_Draw']]",
   "id": "143493af7f2a70f0",
   "outputs": [],
   "execution_count": 155
  },
  {
   "metadata": {
    "ExecuteTime": {
     "end_time": "2024-05-09T16:07:59.226459Z",
     "start_time": "2024-05-09T16:07:59.217772Z"
    }
   },
   "cell_type": "code",
   "source": "X_train, X_test, y_train, y_test = train_test_split(X, y, test_size=0.25)",
   "id": "6501858b04fce2a6",
   "outputs": [],
   "execution_count": 156
  },
  {
   "metadata": {
    "ExecuteTime": {
     "end_time": "2024-05-09T16:07:59.234862Z",
     "start_time": "2024-05-09T16:07:59.229487Z"
    }
   },
   "cell_type": "code",
   "source": "log_reg = LogisticRegression(max_iter=500)",
   "id": "9b4ca2d11defc6e3",
   "outputs": [],
   "execution_count": 157
  },
  {
   "metadata": {
    "ExecuteTime": {
     "end_time": "2024-05-09T16:07:59.318904Z",
     "start_time": "2024-05-09T16:07:59.252417Z"
    }
   },
   "cell_type": "code",
   "source": [
    "multi_target_log_reg = MultiOutputClassifier(log_reg, n_jobs=-1)\n",
    "multi_target_log_reg.fit(X_train, y_train);"
   ],
   "id": "842b270f7aab08dc",
   "outputs": [],
   "execution_count": 158
  },
  {
   "metadata": {
    "ExecuteTime": {
     "end_time": "2024-05-09T16:07:59.333560Z",
     "start_time": "2024-05-09T16:07:59.320913Z"
    }
   },
   "cell_type": "code",
   "source": "y_predicted = multi_target_log_reg.predict(X_test)",
   "id": "183214659f1abca",
   "outputs": [],
   "execution_count": 159
  },
  {
   "metadata": {
    "ExecuteTime": {
     "end_time": "2024-05-09T16:07:59.357094Z",
     "start_time": "2024-05-09T16:07:59.338570Z"
    }
   },
   "cell_type": "code",
   "source": [
    "print(f'Accuracy: {accuracy_score(y_test, y_predicted)}')\n",
    "print(f'Recall: {recall_score(y_test, y_predicted, average=\"weighted\")}')\n",
    "print(f'Precision: {precision_score(y_test, y_predicted, average=\"weighted\", zero_division=0)}')"
   ],
   "id": "62e2aef4381c063c",
   "outputs": [
    {
     "name": "stdout",
     "output_type": "stream",
     "text": [
      "Accuracy: 0.30839367122552963\n",
      "Recall: 0.24953967669661561\n",
      "Precision: 0.41643025916715065\n"
     ]
    }
   ],
   "execution_count": 160
  }
 ],
 "metadata": {
  "kernelspec": {
   "display_name": "Python 3",
   "language": "python",
   "name": "python3"
  },
  "language_info": {
   "codemirror_mode": {
    "name": "ipython",
    "version": 2
   },
   "file_extension": ".py",
   "mimetype": "text/x-python",
   "name": "python",
   "nbconvert_exporter": "python",
   "pygments_lexer": "ipython2",
   "version": "2.7.6"
  }
 },
 "nbformat": 4,
 "nbformat_minor": 5
}
