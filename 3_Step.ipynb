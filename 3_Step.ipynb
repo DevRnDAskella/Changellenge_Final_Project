{
 "cells": [
  {
   "metadata": {
    "ExecuteTime": {
     "end_time": "2024-05-11T20:40:24.629334Z",
     "start_time": "2024-05-11T20:40:21.764846Z"
    }
   },
   "cell_type": "code",
   "source": [
    "import pandas as pd\n",
    "\n",
    "from sklearn.ensemble import RandomForestClassifier\n",
    "from sklearn.model_selection import train_test_split\n",
    "from sklearn.metrics import accuracy_score, precision_score, recall_score\n",
    "\n",
    "from sklearn.preprocessing import OneHotEncoder\n",
    "from sklearn.compose import ColumnTransformer\n",
    "from sklearn.pipeline import Pipeline"
   ],
   "id": "9ef7cebc1af265a0",
   "outputs": [],
   "execution_count": 1
  },
  {
   "metadata": {
    "ExecuteTime": {
     "end_time": "2024-05-11T20:40:28.888316Z",
     "start_time": "2024-05-11T20:40:28.831197Z"
    }
   },
   "cell_type": "code",
   "source": "df = pd.read_csv('./src/final_dataset.csv')",
   "id": "25f5880af6973a21",
   "outputs": [],
   "execution_count": 2
  },
  {
   "metadata": {
    "ExecuteTime": {
     "end_time": "2024-05-11T20:40:30.061677Z",
     "start_time": "2024-05-11T20:40:30.051419Z"
    }
   },
   "cell_type": "code",
   "source": "df.columns",
   "id": "8ade28d538ae3fa1",
   "outputs": [
    {
     "data": {
      "text/plain": [
       "Index(['date', 'season', 'league_name', 'team_long_name_home',\n",
       "       'team_short_name_home', 'team_short_name_away', 'team_long_name_away',\n",
       "       'home_team_goal', 'away_team_goal', 'match_result',\n",
       "       'home_players_average_rating', 'away_players_average_rating',\n",
       "       'home_players_average_score', 'away_players_average_score',\n",
       "       'away_team_score', 'home_team_score', 'home_team_red_cards',\n",
       "       'away_team_red_cards', 'avg_bet_home', 'avg_bet_draw', 'avg_bet_away'],\n",
       "      dtype='object')"
      ]
     },
     "execution_count": 3,
     "metadata": {},
     "output_type": "execute_result"
    }
   ],
   "execution_count": 3
  },
  {
   "metadata": {},
   "cell_type": "markdown",
   "source": "Параметры для обучения",
   "id": "bd13b74f524cc21f"
  },
  {
   "metadata": {
    "ExecuteTime": {
     "end_time": "2024-05-11T20:41:14.569858Z",
     "start_time": "2024-05-11T20:41:14.565448Z"
    }
   },
   "cell_type": "code",
   "source": [
    "columns_to_test = ['league_name', 'home_players_average_rating', 'away_players_average_rating',\n",
    "                   'home_players_average_score', 'away_players_average_score',\n",
    "                   'away_team_score', 'away_team_red_cards', 'home_team_score', 'home_team_red_cards', 'avg_bet_home',\n",
    "                   'avg_bet_draw',\n",
    "                   'avg_bet_away']"
   ],
   "id": "b653793428bca893",
   "outputs": [],
   "execution_count": 4
  },
  {
   "metadata": {},
   "cell_type": "markdown",
   "source": "Вытащим уникальные лиги",
   "id": "309e9a28910f1294"
  },
  {
   "metadata": {
    "ExecuteTime": {
     "end_time": "2024-05-11T20:41:16.394647Z",
     "start_time": "2024-05-11T20:41:16.388857Z"
    }
   },
   "cell_type": "code",
   "source": "leagues = df['league_name'].unique()",
   "id": "129c29eaabf7f931",
   "outputs": [],
   "execution_count": 5
  },
  {
   "metadata": {},
   "cell_type": "markdown",
   "source": "Создадим модель для каждой лиги",
   "id": "30ce198d20c8e137"
  },
  {
   "metadata": {
    "ExecuteTime": {
     "end_time": "2024-05-11T20:41:22.611138Z",
     "start_time": "2024-05-11T20:41:17.684157Z"
    }
   },
   "cell_type": "code",
   "source": [
    "models = {}\n",
    "for league in leagues:\n",
    "    league_data = df[df['league_name'] == league]\n",
    "    X = league_data[columns_to_test].drop(columns=['league_name'])\n",
    "    y = league_data['match_result']\n",
    "\n",
    "    X_train, X_test, y_train, y_test = train_test_split(X, y, test_size=0.25, random_state=42)\n",
    "\n",
    "    model = RandomForestClassifier(n_estimators=100, random_state=42)\n",
    "    model.fit(X_train, y_train)\n",
    "\n",
    "    models[league] = model\n",
    "\n",
    "    y_pred = model.predict(X_test)\n",
    "    print(f'Accuracy for {league}:', accuracy_score(y_test, y_pred))"
   ],
   "id": "d3d1ecb768586909",
   "outputs": [
    {
     "name": "stdout",
     "output_type": "stream",
     "text": [
      "Accuracy for Belgium Jupiler League: 0.502283105022831\n",
      "Accuracy for England Premier League: 0.5491949910554562\n",
      "Accuracy for France Ligue 1: 0.4708029197080292\n",
      "Accuracy for Germany 1. Bundesliga: 0.44541484716157204\n",
      "Accuracy for Italy Serie A: 0.5258126195028681\n",
      "Accuracy for Netherlands Eredivisie: 0.5092348284960422\n",
      "Accuracy for Portugal Liga ZON Sagres: 0.4808510638297872\n",
      "Accuracy for Scotland Premier League: 0.4416058394160584\n",
      "Accuracy for Spain LIGA BBVA: 0.5093283582089553\n"
     ]
    }
   ],
   "execution_count": 6
  },
  {
   "metadata": {},
   "cell_type": "markdown",
   "source": "Включение лиги как признака",
   "id": "d6be90c324a34ee0"
  },
  {
   "metadata": {
    "ExecuteTime": {
     "end_time": "2024-05-11T20:41:26.291114Z",
     "start_time": "2024-05-11T20:41:26.286134Z"
    }
   },
   "cell_type": "code",
   "source": [
    "column_transformer = ColumnTransformer(\n",
    "    [('league_encoder', OneHotEncoder(), ['league_name'])],\n",
    "    remainder='passthrough')"
   ],
   "id": "a46763835ee98d7f",
   "outputs": [],
   "execution_count": 7
  },
  {
   "metadata": {
    "ExecuteTime": {
     "end_time": "2024-05-11T20:41:27.379011Z",
     "start_time": "2024-05-11T20:41:27.373355Z"
    }
   },
   "cell_type": "code",
   "source": [
    "pipeline = Pipeline([\n",
    "    ('preprocessor', column_transformer),\n",
    "    ('classifier', RandomForestClassifier(n_estimators=100, random_state=42))\n",
    "])"
   ],
   "id": "6d4b30f26ca310db",
   "outputs": [],
   "execution_count": 8
  },
  {
   "metadata": {
    "ExecuteTime": {
     "end_time": "2024-05-11T20:41:28.618627Z",
     "start_time": "2024-05-11T20:41:28.611141Z"
    }
   },
   "cell_type": "code",
   "source": [
    "X = df[columns_to_test]\n",
    "y = df['match_result']"
   ],
   "id": "d67ba9c2fb1362ec",
   "outputs": [],
   "execution_count": 9
  },
  {
   "metadata": {
    "ExecuteTime": {
     "end_time": "2024-05-11T20:41:29.902750Z",
     "start_time": "2024-05-11T20:41:29.892735Z"
    }
   },
   "cell_type": "code",
   "source": "X_train, X_test, y_train, y_test = train_test_split(X, y, test_size=0.25, random_state=42)",
   "id": "7893a8961bd4645d",
   "outputs": [],
   "execution_count": 10
  },
  {
   "metadata": {
    "ExecuteTime": {
     "end_time": "2024-05-11T20:41:35.126320Z",
     "start_time": "2024-05-11T20:41:31.062767Z"
    }
   },
   "cell_type": "code",
   "source": "pipeline.fit(X_train, y_train)",
   "id": "fd6dc3030efe6347",
   "outputs": [
    {
     "data": {
      "text/plain": [
       "Pipeline(steps=[('preprocessor',\n",
       "                 ColumnTransformer(remainder='passthrough',\n",
       "                                   transformers=[('league_encoder',\n",
       "                                                  OneHotEncoder(),\n",
       "                                                  ['league_name'])])),\n",
       "                ('classifier', RandomForestClassifier(random_state=42))])"
      ],
      "text/html": [
       "<style>#sk-container-id-1 {color: black;}#sk-container-id-1 pre{padding: 0;}#sk-container-id-1 div.sk-toggleable {background-color: white;}#sk-container-id-1 label.sk-toggleable__label {cursor: pointer;display: block;width: 100%;margin-bottom: 0;padding: 0.3em;box-sizing: border-box;text-align: center;}#sk-container-id-1 label.sk-toggleable__label-arrow:before {content: \"▸\";float: left;margin-right: 0.25em;color: #696969;}#sk-container-id-1 label.sk-toggleable__label-arrow:hover:before {color: black;}#sk-container-id-1 div.sk-estimator:hover label.sk-toggleable__label-arrow:before {color: black;}#sk-container-id-1 div.sk-toggleable__content {max-height: 0;max-width: 0;overflow: hidden;text-align: left;background-color: #f0f8ff;}#sk-container-id-1 div.sk-toggleable__content pre {margin: 0.2em;color: black;border-radius: 0.25em;background-color: #f0f8ff;}#sk-container-id-1 input.sk-toggleable__control:checked~div.sk-toggleable__content {max-height: 200px;max-width: 100%;overflow: auto;}#sk-container-id-1 input.sk-toggleable__control:checked~label.sk-toggleable__label-arrow:before {content: \"▾\";}#sk-container-id-1 div.sk-estimator input.sk-toggleable__control:checked~label.sk-toggleable__label {background-color: #d4ebff;}#sk-container-id-1 div.sk-label input.sk-toggleable__control:checked~label.sk-toggleable__label {background-color: #d4ebff;}#sk-container-id-1 input.sk-hidden--visually {border: 0;clip: rect(1px 1px 1px 1px);clip: rect(1px, 1px, 1px, 1px);height: 1px;margin: -1px;overflow: hidden;padding: 0;position: absolute;width: 1px;}#sk-container-id-1 div.sk-estimator {font-family: monospace;background-color: #f0f8ff;border: 1px dotted black;border-radius: 0.25em;box-sizing: border-box;margin-bottom: 0.5em;}#sk-container-id-1 div.sk-estimator:hover {background-color: #d4ebff;}#sk-container-id-1 div.sk-parallel-item::after {content: \"\";width: 100%;border-bottom: 1px solid gray;flex-grow: 1;}#sk-container-id-1 div.sk-label:hover label.sk-toggleable__label {background-color: #d4ebff;}#sk-container-id-1 div.sk-serial::before {content: \"\";position: absolute;border-left: 1px solid gray;box-sizing: border-box;top: 0;bottom: 0;left: 50%;z-index: 0;}#sk-container-id-1 div.sk-serial {display: flex;flex-direction: column;align-items: center;background-color: white;padding-right: 0.2em;padding-left: 0.2em;position: relative;}#sk-container-id-1 div.sk-item {position: relative;z-index: 1;}#sk-container-id-1 div.sk-parallel {display: flex;align-items: stretch;justify-content: center;background-color: white;position: relative;}#sk-container-id-1 div.sk-item::before, #sk-container-id-1 div.sk-parallel-item::before {content: \"\";position: absolute;border-left: 1px solid gray;box-sizing: border-box;top: 0;bottom: 0;left: 50%;z-index: -1;}#sk-container-id-1 div.sk-parallel-item {display: flex;flex-direction: column;z-index: 1;position: relative;background-color: white;}#sk-container-id-1 div.sk-parallel-item:first-child::after {align-self: flex-end;width: 50%;}#sk-container-id-1 div.sk-parallel-item:last-child::after {align-self: flex-start;width: 50%;}#sk-container-id-1 div.sk-parallel-item:only-child::after {width: 0;}#sk-container-id-1 div.sk-dashed-wrapped {border: 1px dashed gray;margin: 0 0.4em 0.5em 0.4em;box-sizing: border-box;padding-bottom: 0.4em;background-color: white;}#sk-container-id-1 div.sk-label label {font-family: monospace;font-weight: bold;display: inline-block;line-height: 1.2em;}#sk-container-id-1 div.sk-label-container {text-align: center;}#sk-container-id-1 div.sk-container {/* jupyter's `normalize.less` sets `[hidden] { display: none; }` but bootstrap.min.css set `[hidden] { display: none !important; }` so we also need the `!important` here to be able to override the default hidden behavior on the sphinx rendered scikit-learn.org. See: https://github.com/scikit-learn/scikit-learn/issues/21755 */display: inline-block !important;position: relative;}#sk-container-id-1 div.sk-text-repr-fallback {display: none;}</style><div id=\"sk-container-id-1\" class=\"sk-top-container\"><div class=\"sk-text-repr-fallback\"><pre>Pipeline(steps=[(&#x27;preprocessor&#x27;,\n",
       "                 ColumnTransformer(remainder=&#x27;passthrough&#x27;,\n",
       "                                   transformers=[(&#x27;league_encoder&#x27;,\n",
       "                                                  OneHotEncoder(),\n",
       "                                                  [&#x27;league_name&#x27;])])),\n",
       "                (&#x27;classifier&#x27;, RandomForestClassifier(random_state=42))])</pre><b>In a Jupyter environment, please rerun this cell to show the HTML representation or trust the notebook. <br />On GitHub, the HTML representation is unable to render, please try loading this page with nbviewer.org.</b></div><div class=\"sk-container\" hidden><div class=\"sk-item sk-dashed-wrapped\"><div class=\"sk-label-container\"><div class=\"sk-label sk-toggleable\"><input class=\"sk-toggleable__control sk-hidden--visually\" id=\"sk-estimator-id-1\" type=\"checkbox\" ><label for=\"sk-estimator-id-1\" class=\"sk-toggleable__label sk-toggleable__label-arrow\">Pipeline</label><div class=\"sk-toggleable__content\"><pre>Pipeline(steps=[(&#x27;preprocessor&#x27;,\n",
       "                 ColumnTransformer(remainder=&#x27;passthrough&#x27;,\n",
       "                                   transformers=[(&#x27;league_encoder&#x27;,\n",
       "                                                  OneHotEncoder(),\n",
       "                                                  [&#x27;league_name&#x27;])])),\n",
       "                (&#x27;classifier&#x27;, RandomForestClassifier(random_state=42))])</pre></div></div></div><div class=\"sk-serial\"><div class=\"sk-item sk-dashed-wrapped\"><div class=\"sk-label-container\"><div class=\"sk-label sk-toggleable\"><input class=\"sk-toggleable__control sk-hidden--visually\" id=\"sk-estimator-id-2\" type=\"checkbox\" ><label for=\"sk-estimator-id-2\" class=\"sk-toggleable__label sk-toggleable__label-arrow\">preprocessor: ColumnTransformer</label><div class=\"sk-toggleable__content\"><pre>ColumnTransformer(remainder=&#x27;passthrough&#x27;,\n",
       "                  transformers=[(&#x27;league_encoder&#x27;, OneHotEncoder(),\n",
       "                                 [&#x27;league_name&#x27;])])</pre></div></div></div><div class=\"sk-parallel\"><div class=\"sk-parallel-item\"><div class=\"sk-item\"><div class=\"sk-label-container\"><div class=\"sk-label sk-toggleable\"><input class=\"sk-toggleable__control sk-hidden--visually\" id=\"sk-estimator-id-3\" type=\"checkbox\" ><label for=\"sk-estimator-id-3\" class=\"sk-toggleable__label sk-toggleable__label-arrow\">league_encoder</label><div class=\"sk-toggleable__content\"><pre>[&#x27;league_name&#x27;]</pre></div></div></div><div class=\"sk-serial\"><div class=\"sk-item\"><div class=\"sk-estimator sk-toggleable\"><input class=\"sk-toggleable__control sk-hidden--visually\" id=\"sk-estimator-id-4\" type=\"checkbox\" ><label for=\"sk-estimator-id-4\" class=\"sk-toggleable__label sk-toggleable__label-arrow\">OneHotEncoder</label><div class=\"sk-toggleable__content\"><pre>OneHotEncoder()</pre></div></div></div></div></div></div><div class=\"sk-parallel-item\"><div class=\"sk-item\"><div class=\"sk-label-container\"><div class=\"sk-label sk-toggleable\"><input class=\"sk-toggleable__control sk-hidden--visually\" id=\"sk-estimator-id-5\" type=\"checkbox\" ><label for=\"sk-estimator-id-5\" class=\"sk-toggleable__label sk-toggleable__label-arrow\">remainder</label><div class=\"sk-toggleable__content\"><pre>[&#x27;home_players_average_rating&#x27;, &#x27;away_players_average_rating&#x27;, &#x27;home_players_average_score&#x27;, &#x27;away_players_average_score&#x27;, &#x27;away_team_score&#x27;, &#x27;away_team_red_cards&#x27;, &#x27;home_team_score&#x27;, &#x27;home_team_red_cards&#x27;, &#x27;avg_bet_home&#x27;, &#x27;avg_bet_draw&#x27;, &#x27;avg_bet_away&#x27;]</pre></div></div></div><div class=\"sk-serial\"><div class=\"sk-item\"><div class=\"sk-estimator sk-toggleable\"><input class=\"sk-toggleable__control sk-hidden--visually\" id=\"sk-estimator-id-6\" type=\"checkbox\" ><label for=\"sk-estimator-id-6\" class=\"sk-toggleable__label sk-toggleable__label-arrow\">passthrough</label><div class=\"sk-toggleable__content\"><pre>passthrough</pre></div></div></div></div></div></div></div></div><div class=\"sk-item\"><div class=\"sk-estimator sk-toggleable\"><input class=\"sk-toggleable__control sk-hidden--visually\" id=\"sk-estimator-id-7\" type=\"checkbox\" ><label for=\"sk-estimator-id-7\" class=\"sk-toggleable__label sk-toggleable__label-arrow\">RandomForestClassifier</label><div class=\"sk-toggleable__content\"><pre>RandomForestClassifier(random_state=42)</pre></div></div></div></div></div></div></div>"
      ]
     },
     "execution_count": 11,
     "metadata": {},
     "output_type": "execute_result"
    }
   ],
   "execution_count": 11
  },
  {
   "metadata": {
    "ExecuteTime": {
     "end_time": "2024-05-11T20:41:37.130930Z",
     "start_time": "2024-05-11T20:41:37.025118Z"
    }
   },
   "cell_type": "code",
   "source": "y_pred = pipeline.predict(X_test)",
   "id": "da3084474b8a7842",
   "outputs": [],
   "execution_count": 12
  },
  {
   "metadata": {
    "ExecuteTime": {
     "end_time": "2024-05-11T20:41:38.753286Z",
     "start_time": "2024-05-11T20:41:38.739777Z"
    }
   },
   "cell_type": "code",
   "source": [
    "print('Overall accuracy:', accuracy_score(y_test, y_pred))\n",
    "print('Overall precision:', precision_score(y_test, y_pred, average='macro'))\n",
    "print('Overall recall:', recall_score(y_test, y_pred, average='macro'))"
   ],
   "id": "3b26386e7d6ee8fa",
   "outputs": [
    {
     "name": "stdout",
     "output_type": "stream",
     "text": [
      "Overall accuracy: 0.5202467149369804\n",
      "Overall precision: 0.4528309707058365\n",
      "Overall recall: 0.45340465488080567\n"
     ]
    }
   ],
   "execution_count": 13
  }
 ],
 "metadata": {
  "kernelspec": {
   "display_name": "Python 3",
   "language": "python",
   "name": "python3"
  },
  "language_info": {
   "codemirror_mode": {
    "name": "ipython",
    "version": 2
   },
   "file_extension": ".py",
   "mimetype": "text/x-python",
   "name": "python",
   "nbconvert_exporter": "python",
   "pygments_lexer": "ipython2",
   "version": "2.7.6"
  }
 },
 "nbformat": 4,
 "nbformat_minor": 5
}
