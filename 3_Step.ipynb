{
 "cells": [
  {
   "metadata": {
    "ExecuteTime": {
     "end_time": "2024-05-12T12:20:57.541988Z",
     "start_time": "2024-05-12T12:20:57.535638Z"
    }
   },
   "cell_type": "code",
   "source": [
    "import pandas as pd\n",
    "import numpy as np\n",
    "\n",
    "from sklearn.ensemble import RandomForestClassifier\n",
    "from sklearn.model_selection import RandomizedSearchCV\n",
    "from sklearn.model_selection import GridSearchCV\n",
    "from sklearn.model_selection import train_test_split\n",
    "from sklearn.metrics import accuracy_score, precision_score, recall_score\n",
    "\n",
    "from sklearn.preprocessing import OneHotEncoder\n",
    "from sklearn.compose import ColumnTransformer\n",
    "from sklearn.pipeline import Pipeline"
   ],
   "id": "9ef7cebc1af265a0",
   "outputs": [],
   "execution_count": 48
  },
  {
   "metadata": {
    "ExecuteTime": {
     "end_time": "2024-05-12T12:20:57.673275Z",
     "start_time": "2024-05-12T12:20:57.611861Z"
    }
   },
   "cell_type": "code",
   "source": "df = pd.read_csv('./src/final_dataset.csv')",
   "id": "25f5880af6973a21",
   "outputs": [],
   "execution_count": 49
  },
  {
   "metadata": {
    "ExecuteTime": {
     "end_time": "2024-05-12T12:20:57.683210Z",
     "start_time": "2024-05-12T12:20:57.676282Z"
    }
   },
   "cell_type": "code",
   "source": "df.columns",
   "id": "8ade28d538ae3fa1",
   "outputs": [
    {
     "data": {
      "text/plain": [
       "Index(['date', 'season', 'league_name', 'match_result', 'team_long_name_home',\n",
       "       'team_short_name_home', 'home_team_goal', 'home_players_average_rating',\n",
       "       'home_players_average_score', 'home_team_score',\n",
       "       'home_team_prob_receive_red_cards', 'home_team_prob_case_win',\n",
       "       'team_long_name_away', 'team_short_name_away', 'away_team_goal',\n",
       "       'away_players_average_rating', 'away_players_average_score',\n",
       "       'away_team_score', 'away_team_prob_receive_red_cards',\n",
       "       'away_team_prob_case_win', 'home_avg_bet', 'draw_avg_bet',\n",
       "       'away_avg_bet'],\n",
       "      dtype='object')"
      ]
     },
     "execution_count": 50,
     "metadata": {},
     "output_type": "execute_result"
    }
   ],
   "execution_count": 50
  },
  {
   "metadata": {},
   "cell_type": "markdown",
   "source": "Параметры для обучения",
   "id": "bd13b74f524cc21f"
  },
  {
   "metadata": {
    "ExecuteTime": {
     "end_time": "2024-05-12T12:20:57.690882Z",
     "start_time": "2024-05-12T12:20:57.686236Z"
    }
   },
   "cell_type": "code",
   "source": [
    "columns_to_test = ['league_name',\n",
    "                   'home_players_average_rating',\n",
    "                   'away_players_average_rating',\n",
    "                   'home_team_score',\n",
    "                   'away_team_score',\n",
    "                   'home_team_prob_case_win',\n",
    "                   'away_team_prob_case_win',\n",
    "                   'away_team_prob_receive_red_cards',\n",
    "                   'home_team_prob_receive_red_cards',\n",
    "                   'home_avg_bet',\n",
    "                   'draw_avg_bet',\n",
    "                   'away_avg_bet',\n",
    "                   ]"
   ],
   "id": "b653793428bca893",
   "outputs": [],
   "execution_count": 51
  },
  {
   "metadata": {},
   "cell_type": "markdown",
   "source": "Вытащим уникальные лиги",
   "id": "309e9a28910f1294"
  },
  {
   "metadata": {
    "ExecuteTime": {
     "end_time": "2024-05-12T12:20:57.699504Z",
     "start_time": "2024-05-12T12:20:57.692892Z"
    }
   },
   "cell_type": "code",
   "source": "leagues = df['league_name'].unique()",
   "id": "129c29eaabf7f931",
   "outputs": [],
   "execution_count": 52
  },
  {
   "metadata": {},
   "cell_type": "markdown",
   "source": "Создадим модель для каждой лиги",
   "id": "30ce198d20c8e137"
  },
  {
   "metadata": {
    "ExecuteTime": {
     "end_time": "2024-05-12T12:20:57.705483Z",
     "start_time": "2024-05-12T12:20:57.701511Z"
    }
   },
   "cell_type": "code",
   "source": [
    "param_distributions_for_leagues = {\n",
    "    'n_estimators': np.arange(100, 501, 50),\n",
    "    'max_features': ['sqrt', 'log2'],\n",
    "    'max_depth': np.arange(3, 12)\n",
    "}"
   ],
   "id": "eb4c130f833e8578",
   "outputs": [],
   "execution_count": 53
  },
  {
   "metadata": {
    "ExecuteTime": {
     "end_time": "2024-05-12T12:22:23.440732Z",
     "start_time": "2024-05-12T12:20:57.706493Z"
    }
   },
   "cell_type": "code",
   "source": [
    "models = {}\n",
    "\n",
    "for league in leagues:\n",
    "    league_data = df[df['league_name'] == league]\n",
    "    X = league_data[columns_to_test].drop(columns=['league_name'])\n",
    "    y = league_data['match_result']\n",
    "\n",
    "    X_train, X_test, y_train, y_test = train_test_split(X, y, test_size=0.25, random_state=42)\n",
    "\n",
    "    model = RandomForestClassifier(n_estimators=100, random_state=42)\n",
    "    updated_model = RandomizedSearchCV(estimator=model, param_distributions=param_distributions_for_leagues, n_iter=10, cv=5,\n",
    "                                       scoring='accuracy', random_state=42, error_score='raise', n_jobs=-1)\n",
    "\n",
    "    updated_model.fit(X_train, y_train)\n",
    "\n",
    "    models[league] = updated_model\n",
    "    best_model = updated_model.best_estimator_\n",
    "    y_pred = best_model.predict(X_test)\n",
    "\n",
    "    print(f'Accuracy for {league}:', accuracy_score(y_test, y_pred))"
   ],
   "id": "d3d1ecb768586909",
   "outputs": [
    {
     "name": "stdout",
     "output_type": "stream",
     "text": [
      "Accuracy for Belgium Jupiler League: 0.547945205479452\n",
      "Accuracy for England Premier League: 0.5831842576028623\n",
      "Accuracy for France Ligue 1: 0.49452554744525545\n",
      "Accuracy for Germany 1. Bundesliga: 0.4868995633187773\n",
      "Accuracy for Italy Serie A: 0.5602294455066922\n",
      "Accuracy for Netherlands Eredivisie: 0.5118733509234829\n",
      "Accuracy for Portugal Liga ZON Sagres: 0.5276595744680851\n",
      "Accuracy for Scotland Premier League: 0.5\n",
      "Accuracy for Spain LIGA BBVA: 0.5503731343283582\n"
     ]
    }
   ],
   "execution_count": 54
  },
  {
   "metadata": {},
   "cell_type": "markdown",
   "source": "Включение лиги как признака",
   "id": "d6be90c324a34ee0"
  },
  {
   "metadata": {},
   "cell_type": "markdown",
   "source": "Предобработка",
   "id": "8dc3bdace9e1a2b9"
  },
  {
   "metadata": {
    "ExecuteTime": {
     "end_time": "2024-05-12T12:22:23.447671Z",
     "start_time": "2024-05-12T12:22:23.442737Z"
    }
   },
   "cell_type": "code",
   "source": [
    "column_transformer = ColumnTransformer(\n",
    "    [('league_encoder', OneHotEncoder(), ['league_name'])],\n",
    "    remainder='passthrough')"
   ],
   "id": "a46763835ee98d7f",
   "outputs": [],
   "execution_count": 55
  },
  {
   "metadata": {
    "ExecuteTime": {
     "end_time": "2024-05-12T12:22:23.454037Z",
     "start_time": "2024-05-12T12:22:23.449679Z"
    }
   },
   "cell_type": "code",
   "source": [
    "pipeline = Pipeline([\n",
    "    ('preprocessor', column_transformer),\n",
    "    ('classifier', RandomForestClassifier(n_estimators=100, random_state=42))\n",
    "])"
   ],
   "id": "6d4b30f26ca310db",
   "outputs": [],
   "execution_count": 56
  },
  {
   "metadata": {},
   "cell_type": "markdown",
   "source": "Параметры для RandomizedSearchCV",
   "id": "b98578f87cf706a5"
  },
  {
   "metadata": {
    "ExecuteTime": {
     "end_time": "2024-05-12T12:22:23.462410Z",
     "start_time": "2024-05-12T12:22:23.458044Z"
    }
   },
   "cell_type": "code",
   "source": [
    "param_distributions = {\n",
    "    'classifier__n_estimators': np.arange(100, 501, 50),\n",
    "    'classifier__max_features': ['sqrt', 'log2'],\n",
    "    'classifier__max_depth': np.arange(3, 12)\n",
    "}"
   ],
   "id": "bd573e33dab8131e",
   "outputs": [],
   "execution_count": 57
  },
  {
   "metadata": {},
   "cell_type": "markdown",
   "source": "Сам RandomizedSearchCV",
   "id": "6b9c951c7c3220c2"
  },
  {
   "metadata": {
    "ExecuteTime": {
     "end_time": "2024-05-12T12:22:23.467826Z",
     "start_time": "2024-05-12T12:22:23.463416Z"
    }
   },
   "cell_type": "code",
   "source": [
    "random_search = RandomizedSearchCV(estimator=pipeline, param_distributions=param_distributions, n_iter=10, cv=5,\n",
    "                                   scoring='accuracy', random_state=42, error_score='raise', n_jobs=-1, verbose=1)"
   ],
   "id": "a17402869efe8a6e",
   "outputs": [],
   "execution_count": 58
  },
  {
   "metadata": {
    "ExecuteTime": {
     "end_time": "2024-05-12T12:22:23.475853Z",
     "start_time": "2024-05-12T12:22:23.470834Z"
    }
   },
   "cell_type": "code",
   "source": [
    "X = df[columns_to_test]\n",
    "y = df['match_result']"
   ],
   "id": "d67ba9c2fb1362ec",
   "outputs": [],
   "execution_count": 59
  },
  {
   "metadata": {
    "ExecuteTime": {
     "end_time": "2024-05-12T12:22:23.485472Z",
     "start_time": "2024-05-12T12:22:23.476860Z"
    }
   },
   "cell_type": "code",
   "source": "X_train, X_test, y_train, y_test = train_test_split(X, y, test_size=0.25, random_state=42)",
   "id": "7893a8961bd4645d",
   "outputs": [],
   "execution_count": 60
  },
  {
   "metadata": {
    "ExecuteTime": {
     "end_time": "2024-05-12T12:23:03.639963Z",
     "start_time": "2024-05-12T12:22:23.486480Z"
    }
   },
   "cell_type": "code",
   "source": "random_search.fit(X_train, y_train)",
   "id": "fd6dc3030efe6347",
   "outputs": [
    {
     "name": "stdout",
     "output_type": "stream",
     "text": [
      "Fitting 5 folds for each of 10 candidates, totalling 50 fits\n"
     ]
    },
    {
     "data": {
      "text/plain": [
       "RandomizedSearchCV(cv=5, error_score='raise',\n",
       "                   estimator=Pipeline(steps=[('preprocessor',\n",
       "                                              ColumnTransformer(remainder='passthrough',\n",
       "                                                                transformers=[('league_encoder',\n",
       "                                                                               OneHotEncoder(),\n",
       "                                                                               ['league_name'])])),\n",
       "                                             ('classifier',\n",
       "                                              RandomForestClassifier(random_state=42))]),\n",
       "                   n_jobs=-1,\n",
       "                   param_distributions={'classifier__max_depth': array([ 3,  4,  5,  6,  7,  8,  9, 10, 11]),\n",
       "                                        'classifier__max_features': ['sqrt',\n",
       "                                                                     'log2'],\n",
       "                                        'classifier__n_estimators': array([100, 150, 200, 250, 300, 350, 400, 450, 500])},\n",
       "                   random_state=42, scoring='accuracy', verbose=1)"
      ],
      "text/html": [
       "<style>#sk-container-id-1 {color: black;}#sk-container-id-1 pre{padding: 0;}#sk-container-id-1 div.sk-toggleable {background-color: white;}#sk-container-id-1 label.sk-toggleable__label {cursor: pointer;display: block;width: 100%;margin-bottom: 0;padding: 0.3em;box-sizing: border-box;text-align: center;}#sk-container-id-1 label.sk-toggleable__label-arrow:before {content: \"▸\";float: left;margin-right: 0.25em;color: #696969;}#sk-container-id-1 label.sk-toggleable__label-arrow:hover:before {color: black;}#sk-container-id-1 div.sk-estimator:hover label.sk-toggleable__label-arrow:before {color: black;}#sk-container-id-1 div.sk-toggleable__content {max-height: 0;max-width: 0;overflow: hidden;text-align: left;background-color: #f0f8ff;}#sk-container-id-1 div.sk-toggleable__content pre {margin: 0.2em;color: black;border-radius: 0.25em;background-color: #f0f8ff;}#sk-container-id-1 input.sk-toggleable__control:checked~div.sk-toggleable__content {max-height: 200px;max-width: 100%;overflow: auto;}#sk-container-id-1 input.sk-toggleable__control:checked~label.sk-toggleable__label-arrow:before {content: \"▾\";}#sk-container-id-1 div.sk-estimator input.sk-toggleable__control:checked~label.sk-toggleable__label {background-color: #d4ebff;}#sk-container-id-1 div.sk-label input.sk-toggleable__control:checked~label.sk-toggleable__label {background-color: #d4ebff;}#sk-container-id-1 input.sk-hidden--visually {border: 0;clip: rect(1px 1px 1px 1px);clip: rect(1px, 1px, 1px, 1px);height: 1px;margin: -1px;overflow: hidden;padding: 0;position: absolute;width: 1px;}#sk-container-id-1 div.sk-estimator {font-family: monospace;background-color: #f0f8ff;border: 1px dotted black;border-radius: 0.25em;box-sizing: border-box;margin-bottom: 0.5em;}#sk-container-id-1 div.sk-estimator:hover {background-color: #d4ebff;}#sk-container-id-1 div.sk-parallel-item::after {content: \"\";width: 100%;border-bottom: 1px solid gray;flex-grow: 1;}#sk-container-id-1 div.sk-label:hover label.sk-toggleable__label {background-color: #d4ebff;}#sk-container-id-1 div.sk-serial::before {content: \"\";position: absolute;border-left: 1px solid gray;box-sizing: border-box;top: 0;bottom: 0;left: 50%;z-index: 0;}#sk-container-id-1 div.sk-serial {display: flex;flex-direction: column;align-items: center;background-color: white;padding-right: 0.2em;padding-left: 0.2em;position: relative;}#sk-container-id-1 div.sk-item {position: relative;z-index: 1;}#sk-container-id-1 div.sk-parallel {display: flex;align-items: stretch;justify-content: center;background-color: white;position: relative;}#sk-container-id-1 div.sk-item::before, #sk-container-id-1 div.sk-parallel-item::before {content: \"\";position: absolute;border-left: 1px solid gray;box-sizing: border-box;top: 0;bottom: 0;left: 50%;z-index: -1;}#sk-container-id-1 div.sk-parallel-item {display: flex;flex-direction: column;z-index: 1;position: relative;background-color: white;}#sk-container-id-1 div.sk-parallel-item:first-child::after {align-self: flex-end;width: 50%;}#sk-container-id-1 div.sk-parallel-item:last-child::after {align-self: flex-start;width: 50%;}#sk-container-id-1 div.sk-parallel-item:only-child::after {width: 0;}#sk-container-id-1 div.sk-dashed-wrapped {border: 1px dashed gray;margin: 0 0.4em 0.5em 0.4em;box-sizing: border-box;padding-bottom: 0.4em;background-color: white;}#sk-container-id-1 div.sk-label label {font-family: monospace;font-weight: bold;display: inline-block;line-height: 1.2em;}#sk-container-id-1 div.sk-label-container {text-align: center;}#sk-container-id-1 div.sk-container {/* jupyter's `normalize.less` sets `[hidden] { display: none; }` but bootstrap.min.css set `[hidden] { display: none !important; }` so we also need the `!important` here to be able to override the default hidden behavior on the sphinx rendered scikit-learn.org. See: https://github.com/scikit-learn/scikit-learn/issues/21755 */display: inline-block !important;position: relative;}#sk-container-id-1 div.sk-text-repr-fallback {display: none;}</style><div id=\"sk-container-id-1\" class=\"sk-top-container\"><div class=\"sk-text-repr-fallback\"><pre>RandomizedSearchCV(cv=5, error_score=&#x27;raise&#x27;,\n",
       "                   estimator=Pipeline(steps=[(&#x27;preprocessor&#x27;,\n",
       "                                              ColumnTransformer(remainder=&#x27;passthrough&#x27;,\n",
       "                                                                transformers=[(&#x27;league_encoder&#x27;,\n",
       "                                                                               OneHotEncoder(),\n",
       "                                                                               [&#x27;league_name&#x27;])])),\n",
       "                                             (&#x27;classifier&#x27;,\n",
       "                                              RandomForestClassifier(random_state=42))]),\n",
       "                   n_jobs=-1,\n",
       "                   param_distributions={&#x27;classifier__max_depth&#x27;: array([ 3,  4,  5,  6,  7,  8,  9, 10, 11]),\n",
       "                                        &#x27;classifier__max_features&#x27;: [&#x27;sqrt&#x27;,\n",
       "                                                                     &#x27;log2&#x27;],\n",
       "                                        &#x27;classifier__n_estimators&#x27;: array([100, 150, 200, 250, 300, 350, 400, 450, 500])},\n",
       "                   random_state=42, scoring=&#x27;accuracy&#x27;, verbose=1)</pre><b>In a Jupyter environment, please rerun this cell to show the HTML representation or trust the notebook. <br />On GitHub, the HTML representation is unable to render, please try loading this page with nbviewer.org.</b></div><div class=\"sk-container\" hidden><div class=\"sk-item sk-dashed-wrapped\"><div class=\"sk-label-container\"><div class=\"sk-label sk-toggleable\"><input class=\"sk-toggleable__control sk-hidden--visually\" id=\"sk-estimator-id-1\" type=\"checkbox\" ><label for=\"sk-estimator-id-1\" class=\"sk-toggleable__label sk-toggleable__label-arrow\">RandomizedSearchCV</label><div class=\"sk-toggleable__content\"><pre>RandomizedSearchCV(cv=5, error_score=&#x27;raise&#x27;,\n",
       "                   estimator=Pipeline(steps=[(&#x27;preprocessor&#x27;,\n",
       "                                              ColumnTransformer(remainder=&#x27;passthrough&#x27;,\n",
       "                                                                transformers=[(&#x27;league_encoder&#x27;,\n",
       "                                                                               OneHotEncoder(),\n",
       "                                                                               [&#x27;league_name&#x27;])])),\n",
       "                                             (&#x27;classifier&#x27;,\n",
       "                                              RandomForestClassifier(random_state=42))]),\n",
       "                   n_jobs=-1,\n",
       "                   param_distributions={&#x27;classifier__max_depth&#x27;: array([ 3,  4,  5,  6,  7,  8,  9, 10, 11]),\n",
       "                                        &#x27;classifier__max_features&#x27;: [&#x27;sqrt&#x27;,\n",
       "                                                                     &#x27;log2&#x27;],\n",
       "                                        &#x27;classifier__n_estimators&#x27;: array([100, 150, 200, 250, 300, 350, 400, 450, 500])},\n",
       "                   random_state=42, scoring=&#x27;accuracy&#x27;, verbose=1)</pre></div></div></div><div class=\"sk-parallel\"><div class=\"sk-parallel-item\"><div class=\"sk-item\"><div class=\"sk-label-container\"><div class=\"sk-label sk-toggleable\"><input class=\"sk-toggleable__control sk-hidden--visually\" id=\"sk-estimator-id-2\" type=\"checkbox\" ><label for=\"sk-estimator-id-2\" class=\"sk-toggleable__label sk-toggleable__label-arrow\">estimator: Pipeline</label><div class=\"sk-toggleable__content\"><pre>Pipeline(steps=[(&#x27;preprocessor&#x27;,\n",
       "                 ColumnTransformer(remainder=&#x27;passthrough&#x27;,\n",
       "                                   transformers=[(&#x27;league_encoder&#x27;,\n",
       "                                                  OneHotEncoder(),\n",
       "                                                  [&#x27;league_name&#x27;])])),\n",
       "                (&#x27;classifier&#x27;, RandomForestClassifier(random_state=42))])</pre></div></div></div><div class=\"sk-serial\"><div class=\"sk-item\"><div class=\"sk-serial\"><div class=\"sk-item sk-dashed-wrapped\"><div class=\"sk-label-container\"><div class=\"sk-label sk-toggleable\"><input class=\"sk-toggleable__control sk-hidden--visually\" id=\"sk-estimator-id-3\" type=\"checkbox\" ><label for=\"sk-estimator-id-3\" class=\"sk-toggleable__label sk-toggleable__label-arrow\">preprocessor: ColumnTransformer</label><div class=\"sk-toggleable__content\"><pre>ColumnTransformer(remainder=&#x27;passthrough&#x27;,\n",
       "                  transformers=[(&#x27;league_encoder&#x27;, OneHotEncoder(),\n",
       "                                 [&#x27;league_name&#x27;])])</pre></div></div></div><div class=\"sk-parallel\"><div class=\"sk-parallel-item\"><div class=\"sk-item\"><div class=\"sk-label-container\"><div class=\"sk-label sk-toggleable\"><input class=\"sk-toggleable__control sk-hidden--visually\" id=\"sk-estimator-id-4\" type=\"checkbox\" ><label for=\"sk-estimator-id-4\" class=\"sk-toggleable__label sk-toggleable__label-arrow\">league_encoder</label><div class=\"sk-toggleable__content\"><pre>[&#x27;league_name&#x27;]</pre></div></div></div><div class=\"sk-serial\"><div class=\"sk-item\"><div class=\"sk-estimator sk-toggleable\"><input class=\"sk-toggleable__control sk-hidden--visually\" id=\"sk-estimator-id-5\" type=\"checkbox\" ><label for=\"sk-estimator-id-5\" class=\"sk-toggleable__label sk-toggleable__label-arrow\">OneHotEncoder</label><div class=\"sk-toggleable__content\"><pre>OneHotEncoder()</pre></div></div></div></div></div></div><div class=\"sk-parallel-item\"><div class=\"sk-item\"><div class=\"sk-label-container\"><div class=\"sk-label sk-toggleable\"><input class=\"sk-toggleable__control sk-hidden--visually\" id=\"sk-estimator-id-6\" type=\"checkbox\" ><label for=\"sk-estimator-id-6\" class=\"sk-toggleable__label sk-toggleable__label-arrow\">remainder</label><div class=\"sk-toggleable__content\"><pre></pre></div></div></div><div class=\"sk-serial\"><div class=\"sk-item\"><div class=\"sk-estimator sk-toggleable\"><input class=\"sk-toggleable__control sk-hidden--visually\" id=\"sk-estimator-id-7\" type=\"checkbox\" ><label for=\"sk-estimator-id-7\" class=\"sk-toggleable__label sk-toggleable__label-arrow\">passthrough</label><div class=\"sk-toggleable__content\"><pre>passthrough</pre></div></div></div></div></div></div></div></div><div class=\"sk-item\"><div class=\"sk-estimator sk-toggleable\"><input class=\"sk-toggleable__control sk-hidden--visually\" id=\"sk-estimator-id-8\" type=\"checkbox\" ><label for=\"sk-estimator-id-8\" class=\"sk-toggleable__label sk-toggleable__label-arrow\">RandomForestClassifier</label><div class=\"sk-toggleable__content\"><pre>RandomForestClassifier(random_state=42)</pre></div></div></div></div></div></div></div></div></div></div></div></div>"
      ]
     },
     "execution_count": 61,
     "metadata": {},
     "output_type": "execute_result"
    }
   ],
   "execution_count": 61
  },
  {
   "metadata": {
    "ExecuteTime": {
     "end_time": "2024-05-12T12:23:03.818625Z",
     "start_time": "2024-05-12T12:23:03.640971Z"
    }
   },
   "cell_type": "code",
   "source": [
    "best_model = random_search.best_estimator_\n",
    "y_pred = best_model.predict(X_test)"
   ],
   "id": "da3084474b8a7842",
   "outputs": [],
   "execution_count": 62
  },
  {
   "metadata": {
    "ExecuteTime": {
     "end_time": "2024-05-12T12:23:03.832474Z",
     "start_time": "2024-05-12T12:23:03.819629Z"
    }
   },
   "cell_type": "code",
   "source": [
    "print('Overall accuracy:', accuracy_score(y_test, y_pred))\n",
    "print('Overall precision:', precision_score(y_test, y_pred, average='macro'))\n",
    "print('Overall recall:', recall_score(y_test, y_pred, average='macro'))"
   ],
   "id": "3b26386e7d6ee8fa",
   "outputs": [
    {
     "name": "stdout",
     "output_type": "stream",
     "text": [
      "Overall accuracy: 0.5395548404397962\n",
      "Overall precision: 0.45340387262296306\n",
      "Overall recall: 0.45471321416974186\n"
     ]
    }
   ],
   "execution_count": 63
  },
  {
   "metadata": {
    "ExecuteTime": {
     "end_time": "2024-05-12T12:23:03.838549Z",
     "start_time": "2024-05-12T12:23:03.835482Z"
    }
   },
   "cell_type": "code",
   "source": "",
   "id": "9cd9d92bbac84477",
   "outputs": [],
   "execution_count": 63
  }
 ],
 "metadata": {
  "kernelspec": {
   "display_name": "Python 3",
   "language": "python",
   "name": "python3"
  },
  "language_info": {
   "codemirror_mode": {
    "name": "ipython",
    "version": 2
   },
   "file_extension": ".py",
   "mimetype": "text/x-python",
   "name": "python",
   "nbconvert_exporter": "python",
   "pygments_lexer": "ipython2",
   "version": "2.7.6"
  }
 },
 "nbformat": 4,
 "nbformat_minor": 5
}
